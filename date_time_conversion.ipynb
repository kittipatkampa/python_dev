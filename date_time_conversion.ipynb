{
 "metadata": {
  "name": "",
  "signature": "sha256:26ca40d6ec4eff39f0aed2487611cbbb11db7edae372b367276eb4fe38b1b0c2"
 },
 "nbformat": 3,
 "nbformat_minor": 0,
 "worksheets": [
  {
   "cells": [
    {
     "cell_type": "heading",
     "level": 1,
     "metadata": {},
     "source": [
      "Datetime object"
     ]
    },
    {
     "cell_type": "code",
     "collapsed": false,
     "input": [
      "import pandas as pd"
     ],
     "language": "python",
     "metadata": {},
     "outputs": [],
     "prompt_number": 1
    },
    {
     "cell_type": "markdown",
     "metadata": {},
     "source": [
      "Many useful date-time conversion can be found on the following urls.\n",
      "\n",
      "* This is a short good example on how to use method \"`DatetimeIndex`\"\n",
      "\n",
      "http://stackoverflow.com/questions/13648774/get-year-month-or-day-from-numpy-datetime64\n",
      "\n",
      "* and a lot more details about the method can be found on this page\n",
      "\n",
      "http://pandas.pydata.org/pandas-docs/stable/generated/pandas.DatetimeIndex.html"
     ]
    },
    {
     "cell_type": "code",
     "collapsed": false,
     "input": [
      "myDate = ['2014-01-01','2014-01-02','2014-10-18','2014-10-19',\n",
      "          '2014-10-20','2014-10-21','2014-10-22','2014-10-23','2014-10-24','2014-10-25','2014-10-26',\n",
      "          '2014-10-27','2014-10-28','2014-10-29','2014-10-30','2014-10-31','2014-11-01','2014-11-02',\n",
      "          '2014-11-03',\n",
      "          '2014-11-15']\n"
     ],
     "language": "python",
     "metadata": {},
     "outputs": [],
     "prompt_number": 15
    },
    {
     "cell_type": "heading",
     "level": 3,
     "metadata": {},
     "source": [
      "Week of Year"
     ]
    },
    {
     "cell_type": "markdown",
     "metadata": {},
     "source": [
      "Note that the first day of a week is set by default to be Monday, for instance, '2014-10-20' is Monday and hence is the first day of week 43."
     ]
    },
    {
     "cell_type": "code",
     "collapsed": false,
     "input": [
      "myWeekofYear = pd.DatetimeIndex(myDate).weekofyear\n",
      "myWeekofYear"
     ],
     "language": "python",
     "metadata": {},
     "outputs": [
      {
       "metadata": {},
       "output_type": "pyout",
       "prompt_number": 16,
       "text": [
        "array([ 1,  1, 42, 42, 43, 43, 43, 43, 43, 43, 43, 44, 44, 44, 44, 44, 44,\n",
        "       44, 45, 46])"
       ]
      }
     ],
     "prompt_number": 16
    },
    {
     "cell_type": "heading",
     "level": 3,
     "metadata": {},
     "source": [
      "Datetime conversion"
     ]
    },
    {
     "cell_type": "markdown",
     "metadata": {},
     "source": [
      "In case that we want to convert data time to dataetime format in python, we can use \"`to_datetime`\"."
     ]
    },
    {
     "cell_type": "code",
     "collapsed": false,
     "input": [
      "myDateTime = ['2014-01-01 22:34:56','2014-01-02 22:38:56']"
     ],
     "language": "python",
     "metadata": {},
     "outputs": [],
     "prompt_number": 33
    },
    {
     "cell_type": "code",
     "collapsed": false,
     "input": [
      "myDateTime = pd.to_datetime(myDateTime, format=\"%Y-%m-%d %H:%M:%S\")\n",
      "print(type(myDateTime))\n",
      "myDateTime"
     ],
     "language": "python",
     "metadata": {},
     "outputs": [
      {
       "output_type": "stream",
       "stream": "stdout",
       "text": [
        "<class 'pandas.tseries.index.DatetimeIndex'>\n"
       ]
      },
      {
       "metadata": {},
       "output_type": "pyout",
       "prompt_number": 34,
       "text": [
        "<class 'pandas.tseries.index.DatetimeIndex'>\n",
        "[2014-01-01 22:34:56, 2014-01-02 22:38:56]\n",
        "Length: 2, Freq: None, Timezone: None"
       ]
      }
     ],
     "prompt_number": 34
    },
    {
     "cell_type": "heading",
     "level": 3,
     "metadata": {},
     "source": [
      "Datetime difference "
     ]
    },
    {
     "cell_type": "markdown",
     "metadata": {},
     "source": [
      "The difference of `datetime` object is represented by `timedelta` in the format of `datetime.timedelta(days, seconds, microseconds)`.\n",
      "\n",
      "This topic discusses the usage of datetime difference in `timedelta` with followable examples: http://stackoverflow.com/questions/1345827/how-do-i-find-the-time-difference-between-two-datetime-objects-in-python\n"
     ]
    },
    {
     "cell_type": "code",
     "collapsed": false,
     "input": [
      "dtDiff = myDateTime[1] - myDateTime[0]\n",
      "dtDiff"
     ],
     "language": "python",
     "metadata": {},
     "outputs": [
      {
       "metadata": {},
       "output_type": "pyout",
       "prompt_number": 44,
       "text": [
        "datetime.timedelta(1, 240)"
       ]
      }
     ],
     "prompt_number": 44
    },
    {
     "cell_type": "code",
     "collapsed": false,
     "input": [
      "print(dtDiff.days)\n",
      "print(dtDiff.seconds)\n",
      "print(dtDiff.total_seconds())"
     ],
     "language": "python",
     "metadata": {},
     "outputs": [
      {
       "output_type": "stream",
       "stream": "stdout",
       "text": [
        "1\n",
        "240\n",
        "86640.0\n"
       ]
      }
     ],
     "prompt_number": 45
    },
    {
     "cell_type": "code",
     "collapsed": false,
     "input": [],
     "language": "python",
     "metadata": {},
     "outputs": []
    }
   ],
   "metadata": {}
  }
 ]
}