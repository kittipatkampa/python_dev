{
 "metadata": {
  "name": "",
  "signature": "sha256:e2d1d5e5ead1b2c92b285a9484b3c57a7478219e91b939ea7a4b8717d9e42706"
 },
 "nbformat": 3,
 "nbformat_minor": 0,
 "worksheets": [
  {
   "cells": [
    {
     "cell_type": "heading",
     "level": 1,
     "metadata": {},
     "source": [
      "Using Thai in python"
     ]
    },
    {
     "cell_type": "markdown",
     "metadata": {},
     "source": [
      "\u0e40\u0e23\u0e32\u0e2a\u0e32\u0e21\u0e32\u0e23\u0e16\u0e43\u0e0a\u0e49\u0e20\u0e32\u0e29\u0e32\u0e44\u0e17\u0e22\u0e44\u0e14\u0e49\u0e15\u0e32\u0e21\u0e1b\u0e01\u0e15\u0e34\u0e43\u0e19 ipython \u0e42\u0e14\u0e22\u0e44\u0e21\u0e48\u0e15\u0e49\u0e2d\u0e07\u0e25\u0e07 package \u0e40\u0e1e\u0e34\u0e48\u0e21\u0e40\u0e15\u0e34\u0e21\u0e41\u0e15\u0e48\u0e2d\u0e22\u0e48\u0e32\u0e07\u0e43\u0e14"
     ]
    },
    {
     "cell_type": "code",
     "collapsed": false,
     "input": [
      "s = '\u0e2d\u0e30\u0e44\u0e23\u0e27\u0e30\u0e40\u0e19\u0e35\u0e48\u0e22\u0e2e\u0e30'\n",
      "print(s)"
     ],
     "language": "python",
     "metadata": {},
     "outputs": [
      {
       "output_type": "stream",
       "stream": "stdout",
       "text": [
        "\u0e2d\u0e30\u0e44\u0e23\u0e27\u0e30\u0e40\u0e19\u0e35\u0e48\u0e22\u0e2e\u0e30\n"
       ]
      }
     ],
     "prompt_number": 1
    },
    {
     "cell_type": "markdown",
     "metadata": {},
     "source": [
      "\u0e40\u0e23\u0e32\u0e2a\u0e32\u0e21\u0e32\u0e23\u0e16 split \u0e04\u0e33\u0e44\u0e14\u0e49"
     ]
    },
    {
     "cell_type": "code",
     "collapsed": false,
     "input": [
      "s.split(\"\u0e30\")"
     ],
     "language": "python",
     "metadata": {},
     "outputs": [
      {
       "metadata": {},
       "output_type": "pyout",
       "prompt_number": 2,
       "text": [
        "['\u0e2d', '\u0e44\u0e23\u0e27', '\u0e40\u0e19\u0e35\u0e48\u0e22\u0e2e', '']"
       ]
      }
     ],
     "prompt_number": 2
    },
    {
     "cell_type": "markdown",
     "metadata": {},
     "source": [
      "\u0e41\u0e25\u0e30\u0e16\u0e49\u0e32\u0e40\u0e23\u0e32\u0e15\u0e49\u0e2d\u0e07\u0e01\u0e32\u0e23 split \u0e2d\u0e2d\u0e01\u0e21\u0e32\u0e40\u0e1b\u0e47\u0e19\u0e15\u0e31\u0e27\u0e2d\u0e31\u0e01\u0e29\u0e23\u0e40\u0e14\u0e35\u0e48\u0e22\u0e27\u0e46 \u0e01\u0e47\u0e2a\u0e32\u0e21\u0e32\u0e23\u0e16\u0e17\u0e33\u0e44\u0e14\u0e49\u0e42\u0e14\u0e22\u0e43\u0e0a\u0e49 list"
     ]
    },
    {
     "cell_type": "code",
     "collapsed": false,
     "input": [
      "list(s)"
     ],
     "language": "python",
     "metadata": {},
     "outputs": [
      {
       "metadata": {},
       "output_type": "pyout",
       "prompt_number": 3,
       "text": [
        "['\u0e2d', '\u0e30', '\u0e44', '\u0e23', '\u0e27', '\u0e30', '\u0e40', '\u0e19', '\u0e35', '\u0e48', '\u0e22', '\u0e2e', '\u0e30']"
       ]
      }
     ],
     "prompt_number": 3
    },
    {
     "cell_type": "markdown",
     "metadata": {},
     "source": [
      "\u0e40\u0e23\u0e32\u0e2a\u0e32\u0e21\u0e32\u0e23\u0e16\u0e40\u0e0a\u0e47\u0e04\u0e44\u0e14\u0e49\u0e27\u0e48\u0e32 string \u0e21\u0e35\u0e04\u0e33\u0e17\u0e35\u0e48\u0e40\u0e23\u0e32\u0e15\u0e49\u0e2d\u0e07\u0e1b\u0e23\u0e30\u0e01\u0e2d\u0e1a\u0e2d\u0e22\u0e39\u0e48\u0e2b\u0e23\u0e37\u0e2d\u0e44\u0e21\u0e48\u0e42\u0e14\u0e22\u0e43\u0e0a\u0e49 in"
     ]
    },
    {
     "cell_type": "code",
     "collapsed": false,
     "input": [
      "\"\u0e30\" in s"
     ],
     "language": "python",
     "metadata": {},
     "outputs": [
      {
       "metadata": {},
       "output_type": "pyout",
       "prompt_number": 4,
       "text": [
        "True"
       ]
      }
     ],
     "prompt_number": 4
    },
    {
     "cell_type": "code",
     "collapsed": false,
     "input": [
      "\"\u0e2d\u0e30\u0e44\u0e23\" in s"
     ],
     "language": "python",
     "metadata": {},
     "outputs": [
      {
       "metadata": {},
       "output_type": "pyout",
       "prompt_number": 5,
       "text": [
        "True"
       ]
      }
     ],
     "prompt_number": 5
    },
    {
     "cell_type": "code",
     "collapsed": false,
     "input": [
      "\"\u0e2d\u0e30\u0e44\u0e23\u0e08\" in s"
     ],
     "language": "python",
     "metadata": {},
     "outputs": [
      {
       "metadata": {},
       "output_type": "pyout",
       "prompt_number": 6,
       "text": [
        "False"
       ]
      }
     ],
     "prompt_number": 6
    },
    {
     "cell_type": "markdown",
     "metadata": {},
     "source": [
      "We can print each character from the string"
     ]
    },
    {
     "cell_type": "code",
     "collapsed": false,
     "input": [
      "for i in s:\n",
      "    print(i)"
     ],
     "language": "python",
     "metadata": {},
     "outputs": [
      {
       "output_type": "stream",
       "stream": "stdout",
       "text": [
        "\u0e2d\n",
        "\u0e30\n",
        "\u0e44\n",
        "\u0e23\n",
        "\u0e27\n",
        "\u0e30\n",
        "\u0e40\n",
        "\u0e19\n",
        "\u0e35\n",
        "\u0e48\n",
        "\u0e22\n",
        "\u0e2e\n",
        "\u0e30\n"
       ]
      }
     ],
     "prompt_number": 7
    },
    {
     "cell_type": "code",
     "collapsed": false,
     "input": [],
     "language": "python",
     "metadata": {},
     "outputs": []
    }
   ],
   "metadata": {}
  }
 ]
}