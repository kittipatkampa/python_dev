{
 "metadata": {
  "name": "",
  "signature": "sha256:2dff591e4411ad9f2b43db90160afb635f300ebee74dccc4d89f848e6a9d60ca"
 },
 "nbformat": 3,
 "nbformat_minor": 0,
 "worksheets": [
  {
   "cells": [
    {
     "cell_type": "heading",
     "level": 1,
     "metadata": {},
     "source": [
      "About Missing data"
     ]
    },
    {
     "cell_type": "markdown",
     "metadata": {},
     "source": [
      "This is a good resource:\n",
      "http://pandas.pydata.org/pandas-docs/stable/missing_data.html"
     ]
    },
    {
     "cell_type": "code",
     "collapsed": false,
     "input": [
      "import numpy as np\n",
      "import pandas as pd"
     ],
     "language": "python",
     "metadata": {},
     "outputs": [],
     "prompt_number": 2
    },
    {
     "cell_type": "code",
     "collapsed": false,
     "input": [
      "x = np.array([-Inf, 0, 1, Inf, NaN])\n",
      "x > 0"
     ],
     "language": "python",
     "metadata": {},
     "outputs": [
      {
       "metadata": {},
       "output_type": "pyout",
       "prompt_number": 7,
       "text": [
        "array([False, False,  True,  True, False], dtype=bool)"
       ]
      }
     ],
     "prompt_number": 7
    },
    {
     "cell_type": "code",
     "collapsed": false,
     "input": [
      "isnan(x)"
     ],
     "language": "python",
     "metadata": {},
     "outputs": [
      {
       "metadata": {},
       "output_type": "pyout",
       "prompt_number": 8,
       "text": [
        "array([False, False, False, False,  True], dtype=bool)"
       ]
      }
     ],
     "prompt_number": 8
    },
    {
     "cell_type": "code",
     "collapsed": false,
     "input": [
      "pd.isnull(x)"
     ],
     "language": "python",
     "metadata": {},
     "outputs": [
      {
       "metadata": {},
       "output_type": "pyout",
       "prompt_number": 9,
       "text": [
        "array([False, False, False, False,  True], dtype=bool)"
       ]
      }
     ],
     "prompt_number": 9
    },
    {
     "cell_type": "code",
     "collapsed": false,
     "input": [
      "pd.notnull(x)"
     ],
     "language": "python",
     "metadata": {},
     "outputs": [
      {
       "metadata": {},
       "output_type": "pyout",
       "prompt_number": 10,
       "text": [
        "array([ True,  True,  True,  True, False], dtype=bool)"
       ]
      }
     ],
     "prompt_number": 10
    },
    {
     "cell_type": "heading",
     "level": 1,
     "metadata": {},
     "source": [
      "Store dataframe in HDF5"
     ]
    },
    {
     "cell_type": "markdown",
     "metadata": {},
     "source": [
      "This is a great resource for storing and loading data from HDF5: \n",
      "\n",
      "http://pandas.pydata.org/pandas-docs/version/0.13.1/io.html#hdf5-pytables"
     ]
    },
    {
     "cell_type": "code",
     "collapsed": false,
     "input": [
      "import pandas as pd\n",
      "import numpy as np\n",
      "\n",
      "## open a connection to 'data.h5'\n",
      "d = pd.HDFStore('data.h5')\n",
      "\n",
      "## store our dataframes to df1 and df2\n",
      "d['df1'] = pd.DataFrame({'N': numpy.random.randn(5)})\n",
      "d['df2'] = pd.DataFrame({'N': numpy.random.randn(3)})\n",
      "\n",
      "## close the connection\n",
      "d.close()\n",
      "\n",
      "## Note that the file path to data.h5 is closed, but still exists and can be opened if you want.\n",
      "d"
     ],
     "language": "python",
     "metadata": {},
     "outputs": [
      {
       "metadata": {},
       "output_type": "pyout",
       "prompt_number": 35,
       "text": [
        "<class 'pandas.io.pytables.HDFStore'>\n",
        "File path: data.h5\n",
        "File is CLOSED"
       ]
      }
     ],
     "prompt_number": 35
    },
    {
     "cell_type": "code",
     "collapsed": false,
     "input": [
      "## open a new connection 'd2' to 'data.h5'\n",
      "d2 = pd.HDFStore('data.h5')\n",
      "out1 = d2['df1']\n",
      "out2 = d2.df2\n",
      "print(out1)\n",
      "print(out2)\n"
     ],
     "language": "python",
     "metadata": {},
     "outputs": [
      {
       "output_type": "stream",
       "stream": "stdout",
       "text": [
        "          N\n",
        "0  0.579272\n",
        "1 -0.263040\n",
        "2  0.066126\n",
        "3 -0.735019\n",
        "4 -0.826106\n",
        "          N\n",
        "0  0.594655\n",
        "1 -0.996831\n",
        "2 -0.427681\n"
       ]
      },
      {
       "metadata": {},
       "output_type": "pyout",
       "prompt_number": 34,
       "text": [
        "<class 'pandas.io.pytables.HDFStore'>\n",
        "File path: data.h5\n",
        "File is CLOSED"
       ]
      }
     ],
     "prompt_number": 34
    },
    {
     "cell_type": "heading",
     "level": 1,
     "metadata": {},
     "source": [
      "Store dataframe using Pickling"
     ]
    },
    {
     "cell_type": "markdown",
     "metadata": {},
     "source": [
      "This is a great resources: http://pandas.pydata.org/pandas-docs/version/0.13.1/io.html#io-pickle"
     ]
    },
    {
     "cell_type": "code",
     "collapsed": false,
     "input": [
      "df = pd.DataFrame({'idx':[1,2,3],'name':['A','B','C']})\n",
      "\n",
      "## store the dataframe\n",
      "df.to_pickle('./pickle_test.pkl')"
     ],
     "language": "python",
     "metadata": {},
     "outputs": [],
     "prompt_number": 37
    },
    {
     "cell_type": "code",
     "collapsed": false,
     "input": [
      "## read the pickled data\n",
      "pd.read_pickle('./pickle_test.pkl')"
     ],
     "language": "python",
     "metadata": {},
     "outputs": [
      {
       "html": [
        "<div style=\"max-height:1000px;max-width:1500px;overflow:auto;\">\n",
        "<table border=\"1\" class=\"dataframe\">\n",
        "  <thead>\n",
        "    <tr style=\"text-align: right;\">\n",
        "      <th></th>\n",
        "      <th>idx</th>\n",
        "      <th>name</th>\n",
        "    </tr>\n",
        "  </thead>\n",
        "  <tbody>\n",
        "    <tr>\n",
        "      <th>0</th>\n",
        "      <td> 1</td>\n",
        "      <td> A</td>\n",
        "    </tr>\n",
        "    <tr>\n",
        "      <th>1</th>\n",
        "      <td> 2</td>\n",
        "      <td> B</td>\n",
        "    </tr>\n",
        "    <tr>\n",
        "      <th>2</th>\n",
        "      <td> 3</td>\n",
        "      <td> C</td>\n",
        "    </tr>\n",
        "  </tbody>\n",
        "</table>\n",
        "</div>"
       ],
       "metadata": {},
       "output_type": "pyout",
       "prompt_number": 39,
       "text": [
        "   idx name\n",
        "0    1    A\n",
        "1    2    B\n",
        "2    3    C"
       ]
      }
     ],
     "prompt_number": 39
    },
    {
     "cell_type": "heading",
     "level": 2,
     "metadata": {},
     "source": [
      "Storing multiple dataframes using pickle"
     ]
    },
    {
     "cell_type": "markdown",
     "metadata": {},
     "source": [
      "The main idea here is to use dictionary (or list) to store the dataframes, then write the dictionary to pickle file.\n",
      "\n",
      "\n",
      "Good resource for package pickle:\n",
      "https://docs.python.org/2/library/pickle.html#example"
     ]
    },
    {
     "cell_type": "code",
     "collapsed": false,
     "input": [
      "df1 = pd.DataFrame({'idx':[1,2,3],'name':['A','B','C']})\n",
      "df2 = pd.DataFrame({'idx':[4,5,6],'name':['D','E','F']})"
     ],
     "language": "python",
     "metadata": {},
     "outputs": [],
     "prompt_number": 62
    },
    {
     "cell_type": "code",
     "collapsed": false,
     "input": [
      "Dict = {'df1':df1,'df2':df2}\n",
      "Dict['df1']"
     ],
     "language": "python",
     "metadata": {},
     "outputs": [
      {
       "html": [
        "<div style=\"max-height:1000px;max-width:1500px;overflow:auto;\">\n",
        "<table border=\"1\" class=\"dataframe\">\n",
        "  <thead>\n",
        "    <tr style=\"text-align: right;\">\n",
        "      <th></th>\n",
        "      <th>idx</th>\n",
        "      <th>name</th>\n",
        "    </tr>\n",
        "  </thead>\n",
        "  <tbody>\n",
        "    <tr>\n",
        "      <th>0</th>\n",
        "      <td> 1</td>\n",
        "      <td> A</td>\n",
        "    </tr>\n",
        "    <tr>\n",
        "      <th>1</th>\n",
        "      <td> 2</td>\n",
        "      <td> B</td>\n",
        "    </tr>\n",
        "    <tr>\n",
        "      <th>2</th>\n",
        "      <td> 3</td>\n",
        "      <td> C</td>\n",
        "    </tr>\n",
        "  </tbody>\n",
        "</table>\n",
        "</div>"
       ],
       "metadata": {},
       "output_type": "pyout",
       "prompt_number": 64,
       "text": [
        "   idx name\n",
        "0    1    A\n",
        "1    2    B\n",
        "2    3    C"
       ]
      }
     ],
     "prompt_number": 64
    },
    {
     "cell_type": "code",
     "collapsed": false,
     "input": [
      "import pickle as pk\n",
      "\n",
      "## write the dictionary to pickle file\n",
      "filecon = open('pickle_list.pkl', 'wb')\n",
      "pk.dump(Dict, filecon)\n",
      "filecon.close()"
     ],
     "language": "python",
     "metadata": {},
     "outputs": []
    },
    {
     "cell_type": "code",
     "collapsed": false,
     "input": [
      "## read the pickle file\n",
      "filecon2 = open('pickle_list.pkl', 'rb')\n",
      "data1 = pk.load(filecon2)\n",
      "filecon2.close()\n",
      "data1['df2']"
     ],
     "language": "python",
     "metadata": {},
     "outputs": [
      {
       "html": [
        "<div style=\"max-height:1000px;max-width:1500px;overflow:auto;\">\n",
        "<table border=\"1\" class=\"dataframe\">\n",
        "  <thead>\n",
        "    <tr style=\"text-align: right;\">\n",
        "      <th></th>\n",
        "      <th>idx</th>\n",
        "      <th>name</th>\n",
        "    </tr>\n",
        "  </thead>\n",
        "  <tbody>\n",
        "    <tr>\n",
        "      <th>0</th>\n",
        "      <td> 4</td>\n",
        "      <td> D</td>\n",
        "    </tr>\n",
        "    <tr>\n",
        "      <th>1</th>\n",
        "      <td> 5</td>\n",
        "      <td> E</td>\n",
        "    </tr>\n",
        "    <tr>\n",
        "      <th>2</th>\n",
        "      <td> 6</td>\n",
        "      <td> F</td>\n",
        "    </tr>\n",
        "  </tbody>\n",
        "</table>\n",
        "</div>"
       ],
       "metadata": {},
       "output_type": "pyout",
       "prompt_number": 72,
       "text": [
        "   idx name\n",
        "0    4    D\n",
        "1    5    E\n",
        "2    6    F"
       ]
      }
     ],
     "prompt_number": 72
    },
    {
     "cell_type": "code",
     "collapsed": false,
     "input": [
      "import pprint as pp\n",
      "pp.pprint(data1)"
     ],
     "language": "python",
     "metadata": {},
     "outputs": [
      {
       "output_type": "stream",
       "stream": "stdout",
       "text": [
        "{'df1':    idx name\n",
        "0    1    A\n",
        "1    2    B\n",
        "2    3    C,\n",
        " 'df2':    idx name\n",
        "0    4    D\n",
        "1    5    E\n",
        "2    6    F}\n"
       ]
      }
     ],
     "prompt_number": 68
    },
    {
     "cell_type": "heading",
     "level": 1,
     "metadata": {},
     "source": [
      "Copy vs Deep Copy in pandas"
     ]
    },
    {
     "cell_type": "code",
     "collapsed": false,
     "input": [
      "df = pd.DataFrame({'idx':[1,2,3],'name':['A','B','C']})\n",
      "print('original df:\\n',df)\n",
      "df1 = df\n",
      "df_copy = df.copy(deep=False)\n",
      "df_copy_deep = df.copy(deep=True) ## default of .copy()\n",
      "\n",
      "\n",
      "## apply some changes to df\n",
      "df.idx[2]=5\n",
      "\n",
      "## df1 changes according to df\n",
      "print('df1:\\n',df1)\n",
      "\n",
      "## df_copy changes according to df\n",
      "print('df_copy:\\n',df_copy)\n",
      "\n",
      "## df_copy_deep changes according to df\n",
      "print('df_copy_deep:\\n',df_copy_deep)"
     ],
     "language": "python",
     "metadata": {},
     "outputs": [
      {
       "output_type": "stream",
       "stream": "stdout",
       "text": [
        "original df:\n",
        "    idx name\n",
        "0    1    A\n",
        "1    2    B\n",
        "2    3    C\n",
        "df1:\n",
        "    idx name\n",
        "0    1    A\n",
        "1    2    B\n",
        "2    5    C\n",
        "df_copy:\n",
        "    idx name\n",
        "0    1    A\n",
        "1    2    B\n",
        "2    5    C\n",
        "df_copy_deep:\n",
        "    idx name\n",
        "0    1    A\n",
        "1    2    B\n",
        "2    3    C\n"
       ]
      }
     ],
     "prompt_number": 92
    },
    {
     "cell_type": "code",
     "collapsed": false,
     "input": [
      "df.idx[2]=5\n",
      "df"
     ],
     "language": "python",
     "metadata": {},
     "outputs": [
      {
       "html": [
        "<div style=\"max-height:1000px;max-width:1500px;overflow:auto;\">\n",
        "<table border=\"1\" class=\"dataframe\">\n",
        "  <thead>\n",
        "    <tr style=\"text-align: right;\">\n",
        "      <th></th>\n",
        "      <th>idx</th>\n",
        "      <th>name</th>\n",
        "    </tr>\n",
        "  </thead>\n",
        "  <tbody>\n",
        "    <tr>\n",
        "      <th>0</th>\n",
        "      <td> 1</td>\n",
        "      <td> A</td>\n",
        "    </tr>\n",
        "    <tr>\n",
        "      <th>1</th>\n",
        "      <td> 2</td>\n",
        "      <td> B</td>\n",
        "    </tr>\n",
        "    <tr>\n",
        "      <th>2</th>\n",
        "      <td> 5</td>\n",
        "      <td> C</td>\n",
        "    </tr>\n",
        "  </tbody>\n",
        "</table>\n",
        "</div>"
       ],
       "metadata": {},
       "output_type": "pyout",
       "prompt_number": 80,
       "text": [
        "   idx name\n",
        "0    1    A\n",
        "1    2    B\n",
        "2    5    C"
       ]
      }
     ],
     "prompt_number": 80
    },
    {
     "cell_type": "code",
     "collapsed": false,
     "input": [
      "df1"
     ],
     "language": "python",
     "metadata": {},
     "outputs": [
      {
       "html": [
        "<div style=\"max-height:1000px;max-width:1500px;overflow:auto;\">\n",
        "<table border=\"1\" class=\"dataframe\">\n",
        "  <thead>\n",
        "    <tr style=\"text-align: right;\">\n",
        "      <th></th>\n",
        "      <th>idx</th>\n",
        "      <th>name</th>\n",
        "    </tr>\n",
        "  </thead>\n",
        "  <tbody>\n",
        "    <tr>\n",
        "      <th>0</th>\n",
        "      <td> 1</td>\n",
        "      <td> A</td>\n",
        "    </tr>\n",
        "    <tr>\n",
        "      <th>1</th>\n",
        "      <td> 2</td>\n",
        "      <td> B</td>\n",
        "    </tr>\n",
        "    <tr>\n",
        "      <th>2</th>\n",
        "      <td> 5</td>\n",
        "      <td> C</td>\n",
        "    </tr>\n",
        "  </tbody>\n",
        "</table>\n",
        "</div>"
       ],
       "metadata": {},
       "output_type": "pyout",
       "prompt_number": 81,
       "text": [
        "   idx name\n",
        "0    1    A\n",
        "1    2    B\n",
        "2    5    C"
       ]
      }
     ],
     "prompt_number": 81
    },
    {
     "cell_type": "heading",
     "level": 1,
     "metadata": {},
     "source": [
      "Bin counting "
     ]
    },
    {
     "cell_type": "markdown",
     "metadata": {},
     "source": [
      "One problem of using cut and groupby is that it does not display zero frequency"
     ]
    },
    {
     "cell_type": "code",
     "collapsed": false,
     "input": [
      "X = pd.Series([3,4,5,6,7,8,9,10,20,21,22,23,25])\n",
      "factor, bins = pd.cut(x=X, bins=np.array([0,5,10,15,20,25,30]), right=True, labels=None, retbins=True, precision=3, include_lowest=True)\n",
      "print(bins)"
     ],
     "language": "python",
     "metadata": {},
     "outputs": [
      {
       "output_type": "stream",
       "stream": "stdout",
       "text": [
        "[ 0  5 10 15 20 25 30]\n"
       ]
      }
     ],
     "prompt_number": 16
    },
    {
     "cell_type": "markdown",
     "metadata": {},
     "source": [
      "Example#1 Notice that the intervals with zero frequency are not displayed. Also [0,5] is shown at the end, not the first as we expected."
     ]
    },
    {
     "cell_type": "code",
     "collapsed": false,
     "input": [
      "d1 = pd.DataFrame({\"X\": X, \"Bucket\": factor })\n",
      "d2 = d1.groupby('Bucket', as_index = True)\n",
      "d2.Bucket.size()"
     ],
     "language": "python",
     "metadata": {},
     "outputs": [
      {
       "metadata": {},
       "output_type": "pyout",
       "prompt_number": 15,
       "text": [
        "Bucket\n",
        "(15, 20]    1\n",
        "(20, 25]    4\n",
        "(5, 10]     5\n",
        "[0, 5]      3\n",
        "dtype: int64"
       ]
      }
     ],
     "prompt_number": 15
    },
    {
     "cell_type": "heading",
     "level": 3,
     "metadata": {},
     "source": [
      "levels, lables and bincount"
     ]
    },
    {
     "cell_type": "markdown",
     "metadata": {},
     "source": [
      "Note the mapping between levels and labels"
     ]
    },
    {
     "cell_type": "code",
     "collapsed": false,
     "input": [
      "print(factor.levels)\n",
      "print(factor.labels)\n",
      "pd.DataFrame({'levels':factor.levels, 'labels':np.arange(len(factor.levels))})"
     ],
     "language": "python",
     "metadata": {},
     "outputs": [
      {
       "output_type": "stream",
       "stream": "stdout",
       "text": [
        "Index(['[0, 5]', '(5, 10]', '(10, 15]', '(15, 20]', '(20, 25]', '(25, 30]'], dtype='object')\n",
        "[0 0 0 1 1 1 1 1 3 4 4 4 4]\n"
       ]
      },
      {
       "html": [
        "<div style=\"max-height:1000px;max-width:1500px;overflow:auto;\">\n",
        "<table border=\"1\" class=\"dataframe\">\n",
        "  <thead>\n",
        "    <tr style=\"text-align: right;\">\n",
        "      <th></th>\n",
        "      <th>labels</th>\n",
        "      <th>levels</th>\n",
        "    </tr>\n",
        "  </thead>\n",
        "  <tbody>\n",
        "    <tr>\n",
        "      <th>0</th>\n",
        "      <td> 0</td>\n",
        "      <td>   [0, 5]</td>\n",
        "    </tr>\n",
        "    <tr>\n",
        "      <th>1</th>\n",
        "      <td> 1</td>\n",
        "      <td>  (5, 10]</td>\n",
        "    </tr>\n",
        "    <tr>\n",
        "      <th>2</th>\n",
        "      <td> 2</td>\n",
        "      <td> (10, 15]</td>\n",
        "    </tr>\n",
        "    <tr>\n",
        "      <th>3</th>\n",
        "      <td> 3</td>\n",
        "      <td> (15, 20]</td>\n",
        "    </tr>\n",
        "    <tr>\n",
        "      <th>4</th>\n",
        "      <td> 4</td>\n",
        "      <td> (20, 25]</td>\n",
        "    </tr>\n",
        "    <tr>\n",
        "      <th>5</th>\n",
        "      <td> 5</td>\n",
        "      <td> (25, 30]</td>\n",
        "    </tr>\n",
        "  </tbody>\n",
        "</table>\n",
        "</div>"
       ],
       "metadata": {},
       "output_type": "pyout",
       "prompt_number": 13,
       "text": [
        "   labels    levels\n",
        "0       0    [0, 5]\n",
        "1       1   (5, 10]\n",
        "2       2  (10, 15]\n",
        "3       3  (15, 20]\n",
        "4       4  (20, 25]\n",
        "5       5  (25, 30]"
       ]
      }
     ],
     "prompt_number": 13
    },
    {
     "cell_type": "markdown",
     "metadata": {},
     "source": [
      "We can count the number of elements in ech bin using bincount. Note that bincount will only count non-negative integer appearing in the given array, so it is important to specify minlength, otherwise it might miss the 0 freq in the last bin."
     ]
    },
    {
     "cell_type": "code",
     "collapsed": false,
     "input": [
      "bin_count = np.bincount(factor.labels, minlength=(len(bins)-1))\n",
      "bin_count"
     ],
     "language": "python",
     "metadata": {},
     "outputs": [
      {
       "metadata": {},
       "output_type": "pyout",
       "prompt_number": 25,
       "text": [
        "array([3, 5, 0, 1, 4, 0])"
       ]
      }
     ],
     "prompt_number": 25
    },
    {
     "cell_type": "code",
     "collapsed": false,
     "input": [
      "pd.DataFrame({'levels':factor.levels, 'labels':np.arange(len(factor.levels)), 'bin_count':bin_count})"
     ],
     "language": "python",
     "metadata": {},
     "outputs": [
      {
       "html": [
        "<div style=\"max-height:1000px;max-width:1500px;overflow:auto;\">\n",
        "<table border=\"1\" class=\"dataframe\">\n",
        "  <thead>\n",
        "    <tr style=\"text-align: right;\">\n",
        "      <th></th>\n",
        "      <th>bin_count</th>\n",
        "      <th>labels</th>\n",
        "      <th>levels</th>\n",
        "    </tr>\n",
        "  </thead>\n",
        "  <tbody>\n",
        "    <tr>\n",
        "      <th>0</th>\n",
        "      <td> 3</td>\n",
        "      <td> 0</td>\n",
        "      <td>   [0, 5]</td>\n",
        "    </tr>\n",
        "    <tr>\n",
        "      <th>1</th>\n",
        "      <td> 5</td>\n",
        "      <td> 1</td>\n",
        "      <td>  (5, 10]</td>\n",
        "    </tr>\n",
        "    <tr>\n",
        "      <th>2</th>\n",
        "      <td> 0</td>\n",
        "      <td> 2</td>\n",
        "      <td> (10, 15]</td>\n",
        "    </tr>\n",
        "    <tr>\n",
        "      <th>3</th>\n",
        "      <td> 1</td>\n",
        "      <td> 3</td>\n",
        "      <td> (15, 20]</td>\n",
        "    </tr>\n",
        "    <tr>\n",
        "      <th>4</th>\n",
        "      <td> 4</td>\n",
        "      <td> 4</td>\n",
        "      <td> (20, 25]</td>\n",
        "    </tr>\n",
        "    <tr>\n",
        "      <th>5</th>\n",
        "      <td> 0</td>\n",
        "      <td> 5</td>\n",
        "      <td> (25, 30]</td>\n",
        "    </tr>\n",
        "  </tbody>\n",
        "</table>\n",
        "</div>"
       ],
       "metadata": {},
       "output_type": "pyout",
       "prompt_number": 26,
       "text": [
        "   bin_count  labels    levels\n",
        "0          3       0    [0, 5]\n",
        "1          5       1   (5, 10]\n",
        "2          0       2  (10, 15]\n",
        "3          1       3  (15, 20]\n",
        "4          4       4  (20, 25]\n",
        "5          0       5  (25, 30]"
       ]
      }
     ],
     "prompt_number": 26
    },
    {
     "cell_type": "markdown",
     "metadata": {},
     "source": [
      "When we want to keep only the bin edges that make non-zero size"
     ]
    },
    {
     "cell_type": "code",
     "collapsed": false,
     "input": [
      "idx_to_keep = np.append([True],bin_count > 0)\n",
      "new_bins = bins[idx_to_keep]\n",
      "print(bins)\n",
      "print(idx_to_keep)\n",
      "print(new_bins)\n",
      "\n",
      "## re-bin. Note that there is no zero here\n",
      "factor = pd.cut(x=X, bins=new_bins, right=True, labels=None, retbins=False, precision=3, include_lowest=True)\n",
      "bin_count = np.bincount(factor.labels, minlength=(len(bins)-1))\n",
      "pd.DataFrame({'levels':factor.levels, 'labels':np.arange(len(factor.levels)), 'bin_count':bin_count})"
     ],
     "language": "python",
     "metadata": {},
     "outputs": [
      {
       "output_type": "stream",
       "stream": "stdout",
       "text": [
        "[ 0  5 10 20 25]\n",
        "[ True  True  True  True  True]\n",
        "[ 0  5 10 20 25]\n"
       ]
      },
      {
       "html": [
        "<div style=\"max-height:1000px;max-width:1500px;overflow:auto;\">\n",
        "<table border=\"1\" class=\"dataframe\">\n",
        "  <thead>\n",
        "    <tr style=\"text-align: right;\">\n",
        "      <th></th>\n",
        "      <th>bin_count</th>\n",
        "      <th>labels</th>\n",
        "      <th>levels</th>\n",
        "    </tr>\n",
        "  </thead>\n",
        "  <tbody>\n",
        "    <tr>\n",
        "      <th>0</th>\n",
        "      <td> 3</td>\n",
        "      <td> 0</td>\n",
        "      <td>   [0, 5]</td>\n",
        "    </tr>\n",
        "    <tr>\n",
        "      <th>1</th>\n",
        "      <td> 5</td>\n",
        "      <td> 1</td>\n",
        "      <td>  (5, 10]</td>\n",
        "    </tr>\n",
        "    <tr>\n",
        "      <th>2</th>\n",
        "      <td> 1</td>\n",
        "      <td> 2</td>\n",
        "      <td> (10, 20]</td>\n",
        "    </tr>\n",
        "    <tr>\n",
        "      <th>3</th>\n",
        "      <td> 4</td>\n",
        "      <td> 3</td>\n",
        "      <td> (20, 25]</td>\n",
        "    </tr>\n",
        "  </tbody>\n",
        "</table>\n",
        "</div>"
       ],
       "metadata": {},
       "output_type": "pyout",
       "prompt_number": 36,
       "text": [
        "   bin_count  labels    levels\n",
        "0          3       0    [0, 5]\n",
        "1          5       1   (5, 10]\n",
        "2          1       2  (10, 20]\n",
        "3          4       3  (20, 25]"
       ]
      }
     ],
     "prompt_number": 36
    },
    {
     "cell_type": "heading",
     "level": 1,
     "metadata": {},
     "source": [
      "Contingency table"
     ]
    },
    {
     "cell_type": "markdown",
     "metadata": {},
     "source": [
      "Using pivot_table to create a contingency table:\n",
      "http://wesmckinney.com/blog/?p=443\n"
     ]
    },
    {
     "cell_type": "code",
     "collapsed": false,
     "input": [
      "s = pd.DataFrame({'X':X,'Y':Y})\n",
      "pd.pivot_table(data=s,index=['X','Y'],aggfunc=size)"
     ],
     "language": "python",
     "metadata": {},
     "outputs": [
      {
       "ename": "NameError",
       "evalue": "name 'Y' is not defined",
       "output_type": "pyerr",
       "traceback": [
        "\u001b[0;31m---------------------------------------------------------------------------\u001b[0m\n\u001b[0;31mNameError\u001b[0m                                 Traceback (most recent call last)",
        "\u001b[0;32m<ipython-input-54-11a553152d0e>\u001b[0m in \u001b[0;36m<module>\u001b[0;34m()\u001b[0m\n\u001b[0;32m----> 1\u001b[0;31m \u001b[0ms\u001b[0m \u001b[0;34m=\u001b[0m \u001b[0mpd\u001b[0m\u001b[0;34m.\u001b[0m\u001b[0mDataFrame\u001b[0m\u001b[0;34m(\u001b[0m\u001b[0;34m{\u001b[0m\u001b[0;34m'X'\u001b[0m\u001b[0;34m:\u001b[0m\u001b[0mX\u001b[0m\u001b[0;34m,\u001b[0m\u001b[0;34m'Y'\u001b[0m\u001b[0;34m:\u001b[0m\u001b[0mY\u001b[0m\u001b[0;34m}\u001b[0m\u001b[0;34m)\u001b[0m\u001b[0;34m\u001b[0m\u001b[0m\n\u001b[0m\u001b[1;32m      2\u001b[0m \u001b[0mpd\u001b[0m\u001b[0;34m.\u001b[0m\u001b[0mpivot_table\u001b[0m\u001b[0;34m(\u001b[0m\u001b[0mdata\u001b[0m\u001b[0;34m=\u001b[0m\u001b[0ms\u001b[0m\u001b[0;34m,\u001b[0m\u001b[0mindex\u001b[0m\u001b[0;34m=\u001b[0m\u001b[0;34m[\u001b[0m\u001b[0;34m'X'\u001b[0m\u001b[0;34m,\u001b[0m\u001b[0;34m'Y'\u001b[0m\u001b[0;34m]\u001b[0m\u001b[0;34m,\u001b[0m\u001b[0maggfunc\u001b[0m\u001b[0;34m=\u001b[0m\u001b[0msize\u001b[0m\u001b[0;34m)\u001b[0m\u001b[0;34m\u001b[0m\u001b[0m\n",
        "\u001b[0;31mNameError\u001b[0m: name 'Y' is not defined"
       ]
      }
     ],
     "prompt_number": 54
    },
    {
     "cell_type": "heading",
     "level": 1,
     "metadata": {},
     "source": [
      "Using dictionary"
     ]
    },
    {
     "cell_type": "raw",
     "metadata": {},
     "source": [
      "resource: \n",
      "\n",
      "https://docs.python.org/2/tutorial/datastructures.html#dictionaries"
     ]
    },
    {
     "cell_type": "code",
     "collapsed": false,
     "input": [
      "## initilize dictionary\n",
      "dict1 = {}\n",
      "\n",
      "## adding the values\n",
      "dict1['dd'] = 1\n",
      "dict1['dd'+'1'] = 3\n",
      "dict1"
     ],
     "language": "python",
     "metadata": {},
     "outputs": [
      {
       "metadata": {},
       "output_type": "pyout",
       "prompt_number": 39,
       "text": [
        "{'dd1': 3, 'dd': 1}"
       ]
      }
     ],
     "prompt_number": 39
    },
    {
     "cell_type": "heading",
     "level": 1,
     "metadata": {},
     "source": [
      "Using value_counts to make histogram of string"
     ]
    },
    {
     "cell_type": "markdown",
     "metadata": {},
     "source": [
      "value_counts is used to count the number of entries. Unfortunately, it does not display NaN. So we have to cheat it by converting NaN to a string 'None'"
     ]
    },
    {
     "cell_type": "code",
     "collapsed": false,
     "input": [
      "S = pd.Series(['Cat','Cat','Cat','Cat','Cat','Cat','Cat','Dog','Dog','Dog','Dog','Dog', NaN, NaN, NaN])\n",
      "S[ pd.isnull(S) ] = 'None'\n",
      "S.value_counts()"
     ],
     "language": "python",
     "metadata": {},
     "outputs": [
      {
       "metadata": {},
       "output_type": "pyout",
       "prompt_number": 150,
       "text": [
        "Cat     7\n",
        "Dog     5\n",
        "None    3\n",
        "dtype: int64"
       ]
      }
     ],
     "prompt_number": 150
    },
    {
     "cell_type": "code",
     "collapsed": false,
     "input": [
      "S\n",
      "#grpS = pd.groupby(by=['S'])"
     ],
     "language": "python",
     "metadata": {},
     "outputs": [
      {
       "metadata": {},
       "output_type": "pyout",
       "prompt_number": 60,
       "text": [
        "0      Cat\n",
        "1      Cat\n",
        "2      Cat\n",
        "3      Cat\n",
        "4      Cat\n",
        "5      Cat\n",
        "6      Cat\n",
        "7      Dog\n",
        "8      Dog\n",
        "9      Dog\n",
        "10     Dog\n",
        "11     Dog\n",
        "12    None\n",
        "13    None\n",
        "14    None\n",
        "dtype: object"
       ]
      }
     ],
     "prompt_number": 60
    },
    {
     "cell_type": "heading",
     "level": 1,
     "metadata": {},
     "source": [
      "Calling function in Python"
     ]
    },
    {
     "cell_type": "markdown",
     "metadata": {},
     "source": [
      "you can import only that particular function"
     ]
    },
    {
     "cell_type": "code",
     "collapsed": false,
     "input": [
      "from function_test_v0 import add_1_2, mul_1_2\n",
      "print(add_1_2(2,4))\n",
      "print(mul_1_2(3,4))"
     ],
     "language": "python",
     "metadata": {},
     "outputs": [
      {
       "ename": "ImportError",
       "evalue": "cannot import name 'mul_1_2'",
       "output_type": "pyerr",
       "traceback": [
        "\u001b[0;31m---------------------------------------------------------------------------\u001b[0m\n\u001b[0;31mImportError\u001b[0m                               Traceback (most recent call last)",
        "\u001b[0;32m<ipython-input-104-94b0c524c334>\u001b[0m in \u001b[0;36m<module>\u001b[0;34m()\u001b[0m\n\u001b[0;32m----> 1\u001b[0;31m \u001b[0;32mfrom\u001b[0m \u001b[0mfunction_test_v0\u001b[0m \u001b[0;32mimport\u001b[0m \u001b[0madd_1_2\u001b[0m\u001b[0;34m,\u001b[0m \u001b[0mmul_1_2\u001b[0m\u001b[0;34m\u001b[0m\u001b[0m\n\u001b[0m\u001b[1;32m      2\u001b[0m \u001b[0mprint\u001b[0m\u001b[0;34m(\u001b[0m\u001b[0madd_1_2\u001b[0m\u001b[0;34m(\u001b[0m\u001b[0;36m2\u001b[0m\u001b[0;34m,\u001b[0m\u001b[0;36m4\u001b[0m\u001b[0;34m)\u001b[0m\u001b[0;34m)\u001b[0m\u001b[0;34m\u001b[0m\u001b[0m\n\u001b[1;32m      3\u001b[0m \u001b[0mprint\u001b[0m\u001b[0;34m(\u001b[0m\u001b[0mmul_1_2\u001b[0m\u001b[0;34m(\u001b[0m\u001b[0;36m3\u001b[0m\u001b[0;34m,\u001b[0m\u001b[0;36m4\u001b[0m\u001b[0;34m)\u001b[0m\u001b[0;34m)\u001b[0m\u001b[0;34m\u001b[0m\u001b[0m\n",
        "\u001b[0;31mImportError\u001b[0m: cannot import name 'mul_1_2'"
       ]
      }
     ],
     "prompt_number": 104
    },
    {
     "cell_type": "markdown",
     "metadata": {},
     "source": [
      "or you can import the whole package"
     ]
    },
    {
     "cell_type": "code",
     "collapsed": false,
     "input": [
      "import function_test_v0\n",
      "function_test_v0.__file__"
     ],
     "language": "python",
     "metadata": {},
     "outputs": [
      {
       "metadata": {},
       "output_type": "pyout",
       "prompt_number": 105,
       "text": [
        "'/Users/kittipat/research/python_dev/function_test_v0.py'"
       ]
      }
     ],
     "prompt_number": 105
    },
    {
     "cell_type": "heading",
     "level": 1,
     "metadata": {},
     "source": [
      "Caveats when using dataframe"
     ]
    },
    {
     "cell_type": "markdown",
     "metadata": {},
     "source": [
      "When subset the rows of dataframe, the index might not be reset, so you should reset it."
     ]
    },
    {
     "cell_type": "code",
     "collapsed": false,
     "input": [
      "x = np.arange(0,20,1)\n",
      "y = np.arange(1,21,1)\n",
      "sss = pd.DataFrame({'x':x,'y':y})\n",
      "SSS = sss['y'][sss.x > 6]\n",
      "\n",
      "## you will see that the index is not reset\n",
      "print(SSS)\n",
      "\n",
      "## we will need to reset the index\n",
      "SSS.index = np.arange(0,len(SSS),1)\n",
      "print(SSS)"
     ],
     "language": "python",
     "metadata": {},
     "outputs": [
      {
       "output_type": "stream",
       "stream": "stdout",
       "text": [
        "7      8\n",
        "8      9\n",
        "9     10\n",
        "10    11\n",
        "11    12\n",
        "12    13\n",
        "13    14\n",
        "14    15\n",
        "15    16\n",
        "16    17\n",
        "17    18\n",
        "18    19\n",
        "19    20\n",
        "Name: y, dtype: int64\n",
        "0      8\n",
        "1      9\n",
        "2     10\n",
        "3     11\n",
        "4     12\n",
        "5     13\n",
        "6     14\n",
        "7     15\n",
        "8     16\n",
        "9     17\n",
        "10    18\n",
        "11    19\n",
        "12    20\n",
        "Name: y, dtype: int64\n"
       ]
      }
     ],
     "prompt_number": 106
    },
    {
     "cell_type": "heading",
     "level": 1,
     "metadata": {},
     "source": [
      "Add columns, Concatenate/Append dateframes"
     ]
    },
    {
     "cell_type": "code",
     "collapsed": false,
     "input": [
      "df1 = pd.DataFrame({'A': np.random.randint(0,100,5), \n",
      "                    'B': np.random.randint(0,100,5),\n",
      "                    'C': np.random.randint(0,100,5)})\n",
      "\n",
      "df2 = pd.DataFrame({'D': np.random.randint(0,100,5), \n",
      "                    'E': np.random.randint(0,100,5),\n",
      "                    'B': np.random.randint(0,100,5),\n",
      "                    'F': np.random.randint(0,100,5)})\n",
      "#print('df1:\\n',df1)\n",
      "#print('df2:\\n',df1)\n",
      "print(df1.index)\n",
      "print(df2.index)\n",
      "\n",
      "## insert column by column\n",
      "dfA = df1.copy()\n",
      "dfA.insert(3,'d',df2[['D']])\n",
      "dfA.insert(2,'e',df2[['E']])\n",
      "print(dfA)\n",
      "\n",
      "## concatenate 2 dataframes in column direction\n",
      "df3 = pd.concat([df1,df2],axis=1)\n",
      "print(df3)\n",
      "\n",
      "## append 2 dataframes in row direction\n",
      "df4 = df2[['D','E','F']].copy()\n",
      "df4.columns = df1.columns\n",
      "df5 = df1.append(df4, ignore_index=False)\n",
      "print(df5)\n",
      "\n",
      "## in case that the columns are not the same\n",
      "df6 = df1.append(df2,ignore_index=False)\n",
      "print(df6)"
     ],
     "language": "python",
     "metadata": {},
     "outputs": [
      {
       "output_type": "stream",
       "stream": "stdout",
       "text": [
        "Int64Index([0, 1, 2, 3, 4], dtype='int64')\n",
        "Int64Index([0, 1, 2, 3, 4], dtype='int64')\n",
        "    A   B   e   C   d\n",
        "0   7  75  78  24  89\n",
        "1  10  78  85  62  10\n",
        "2  48  37  54  47  60\n",
        "3  66  58  17  38   8\n",
        "4  90  72   0  47  86\n",
        "    A   B   C   B   D   E   F\n",
        "0   7  75  24  42  89  78  85\n",
        "1  10  78  62  32  10  85  20\n",
        "2  48  37  47  69  60  54  74\n",
        "3  66  58  38  34   8  17  26\n",
        "4  90  72  47  57  86   0  19\n",
        "    A   B   C\n",
        "0   7  75  24\n",
        "1  10  78  62\n",
        "2  48  37  47\n",
        "3  66  58  38\n",
        "4  90  72  47\n",
        "0  89  78  85\n",
        "1  10  85  20\n",
        "2  60  54  74\n",
        "3   8  17  26\n",
        "4  86   0  19\n",
        "    A   B   C   D   E   F\n",
        "0   7  75  24 NaN NaN NaN\n",
        "1  10  78  62 NaN NaN NaN\n",
        "2  48  37  47 NaN NaN NaN\n",
        "3  66  58  38 NaN NaN NaN\n",
        "4  90  72  47 NaN NaN NaN\n",
        "0 NaN  42 NaN  89  78  85\n",
        "1 NaN  32 NaN  10  85  20\n",
        "2 NaN  69 NaN  60  54  74\n",
        "3 NaN  34 NaN   8  17  26\n",
        "4 NaN  57 NaN  86   0  19\n"
       ]
      }
     ],
     "prompt_number": 149
    },
    {
     "cell_type": "heading",
     "level": 3,
     "metadata": {},
     "source": [
      "Another example of concatenate in column direction"
     ]
    },
    {
     "cell_type": "markdown",
     "metadata": {},
     "source": [
      "This example shows that the index between df1 and df2 should match before using concat."
     ]
    },
    {
     "cell_type": "code",
     "collapsed": false,
     "input": [
      "df1 = pd.DataFrame({'A': np.random.randint(0,100,5), \n",
      "                    'B': np.random.randint(0,100,5),\n",
      "                    'C': np.random.randint(0,100,5)},index=np.arange(0,5,1))\n",
      "\n",
      "df2 = pd.DataFrame({'D': np.random.randint(0,100,5), \n",
      "                    'E': np.random.randint(0,100,5),\n",
      "                    'B': np.random.randint(0,100,5),\n",
      "                    'F': np.random.randint(0,100,5)},index=np.arange(0,5,1)+10)\n",
      "\n",
      "print('index of df1:',df1.index)\n",
      "print('index of df2:',df2.index)\n",
      "\n",
      "## Concatenate\n",
      "print('output of concat w/o realign the index:\\n',pd.concat([df1,df2],axis=1))\n",
      "\n",
      "## A better way is to make sure the index are matched\n",
      "df2.index = df1.index\n",
      "print('index of df2 after reindex:',df2.index)\n",
      "print('output of concat after reindex:\\n',pd.concat([df1,df2],axis=1))\n"
     ],
     "language": "python",
     "metadata": {},
     "outputs": [
      {
       "output_type": "stream",
       "stream": "stdout",
       "text": [
        "index of df1: Int64Index([0, 1, 2, 3, 4], dtype='int64')\n",
        "index of df2: Int64Index([10, 11, 12, 13, 14], dtype='int64')\n",
        "output of concat w/o realign the index:\n",
        "      A   B   C   B   D   E   F\n",
        "0   34  41  81 NaN NaN NaN NaN\n",
        "1   39  32  84 NaN NaN NaN NaN\n",
        "2   39  23  65 NaN NaN NaN NaN\n",
        "3   31   6   8 NaN NaN NaN NaN\n",
        "4   42  79  32 NaN NaN NaN NaN\n",
        "10 NaN NaN NaN  14  42  20  61\n",
        "11 NaN NaN NaN  54  92   8  62\n",
        "12 NaN NaN NaN  64  86  16  25\n",
        "13 NaN NaN NaN  31  64  34  59\n",
        "14 NaN NaN NaN  66  74  28  29\n",
        "index of df2 after reindex: Int64Index([0, 1, 2, 3, 4], dtype='int64')\n",
        "output of concat after reindex:\n",
        "     A   B   C   B   D   E   F\n",
        "0  34  41  81  14  42  20  61\n",
        "1  39  32  84  54  92   8  62\n",
        "2  39  23  65  64  86  16  25\n",
        "3  31   6   8  31  64  34  59\n",
        "4  42  79  32  66  74  28  29\n"
       ]
      }
     ],
     "prompt_number": 209
    },
    {
     "cell_type": "markdown",
     "metadata": {},
     "source": [
      "insert is also index-sensitive!!!"
     ]
    },
    {
     "cell_type": "code",
     "collapsed": false,
     "input": [
      "df1 = pd.DataFrame({'A': np.random.randint(0,100,5), \n",
      "                    'B': np.random.randint(0,100,5),\n",
      "                    'C': np.random.randint(0,100,5)},index=np.arange(0,5,1))\n",
      "\n",
      "s1 = pd.Series(np.random.randint(0,100,5), index=np.arange(0,5,1)+100)\n",
      "print(s1.index)\n",
      "\n",
      "df1.insert(0,'S1',s1)\n",
      "df1"
     ],
     "language": "python",
     "metadata": {},
     "outputs": [
      {
       "output_type": "stream",
       "stream": "stdout",
       "text": [
        "Int64Index([100, 101, 102, 103, 104], dtype='int64')\n"
       ]
      },
      {
       "html": [
        "<div style=\"max-height:1000px;max-width:1500px;overflow:auto;\">\n",
        "<table border=\"1\" class=\"dataframe\">\n",
        "  <thead>\n",
        "    <tr style=\"text-align: right;\">\n",
        "      <th></th>\n",
        "      <th>S1</th>\n",
        "      <th>A</th>\n",
        "      <th>B</th>\n",
        "      <th>C</th>\n",
        "    </tr>\n",
        "  </thead>\n",
        "  <tbody>\n",
        "    <tr>\n",
        "      <th>0</th>\n",
        "      <td>NaN</td>\n",
        "      <td> 35</td>\n",
        "      <td> 73</td>\n",
        "      <td> 76</td>\n",
        "    </tr>\n",
        "    <tr>\n",
        "      <th>1</th>\n",
        "      <td>NaN</td>\n",
        "      <td> 18</td>\n",
        "      <td> 95</td>\n",
        "      <td> 81</td>\n",
        "    </tr>\n",
        "    <tr>\n",
        "      <th>2</th>\n",
        "      <td>NaN</td>\n",
        "      <td> 59</td>\n",
        "      <td> 86</td>\n",
        "      <td> 72</td>\n",
        "    </tr>\n",
        "    <tr>\n",
        "      <th>3</th>\n",
        "      <td>NaN</td>\n",
        "      <td> 69</td>\n",
        "      <td> 54</td>\n",
        "      <td>  2</td>\n",
        "    </tr>\n",
        "    <tr>\n",
        "      <th>4</th>\n",
        "      <td>NaN</td>\n",
        "      <td> 51</td>\n",
        "      <td> 75</td>\n",
        "      <td> 52</td>\n",
        "    </tr>\n",
        "  </tbody>\n",
        "</table>\n",
        "</div>"
       ],
       "metadata": {},
       "output_type": "pyout",
       "prompt_number": 217,
       "text": [
        "   S1   A   B   C\n",
        "0 NaN  35  73  76\n",
        "1 NaN  18  95  81\n",
        "2 NaN  59  86  72\n",
        "3 NaN  69  54   2\n",
        "4 NaN  51  75  52"
       ]
      }
     ],
     "prompt_number": 217
    },
    {
     "cell_type": "code",
     "collapsed": false,
     "input": [
      "# Create some sample data\n",
      "df = pd.DataFrame({\"A\": np.random.randn(5), \"B\": np.random.randn(5)}) \n",
      "# Sum the columns:\n",
      "sum_row = {col: df[col].sum() for col in df}\n",
      "# Turn the sums into a DataFrame with one row with an index of 'Total':\n",
      "sum_df = pd.DataFrame(sum_row, index=[\"Total\"])\n",
      "# Now append the row:\n",
      "df = df.append(sum_df)\n",
      "df"
     ],
     "language": "python",
     "metadata": {},
     "outputs": [
      {
       "html": [
        "<div style=\"max-height:1000px;max-width:1500px;overflow:auto;\">\n",
        "<table border=\"1\" class=\"dataframe\">\n",
        "  <thead>\n",
        "    <tr style=\"text-align: right;\">\n",
        "      <th></th>\n",
        "      <th>A</th>\n",
        "      <th>B</th>\n",
        "    </tr>\n",
        "  </thead>\n",
        "  <tbody>\n",
        "    <tr>\n",
        "      <th>0</th>\n",
        "      <td> 0.355258</td>\n",
        "      <td> 1.467029</td>\n",
        "    </tr>\n",
        "    <tr>\n",
        "      <th>1</th>\n",
        "      <td> 1.454577</td>\n",
        "      <td>-0.981913</td>\n",
        "    </tr>\n",
        "    <tr>\n",
        "      <th>2</th>\n",
        "      <td>-0.739761</td>\n",
        "      <td> 0.303748</td>\n",
        "    </tr>\n",
        "    <tr>\n",
        "      <th>3</th>\n",
        "      <td> 1.335601</td>\n",
        "      <td>-1.238648</td>\n",
        "    </tr>\n",
        "    <tr>\n",
        "      <th>4</th>\n",
        "      <td> 0.810040</td>\n",
        "      <td> 1.833603</td>\n",
        "    </tr>\n",
        "    <tr>\n",
        "      <th>Total</th>\n",
        "      <td> 3.215715</td>\n",
        "      <td> 1.383820</td>\n",
        "    </tr>\n",
        "  </tbody>\n",
        "</table>\n",
        "</div>"
       ],
       "metadata": {},
       "output_type": "pyout",
       "prompt_number": 130,
       "text": [
        "              A         B\n",
        "0      0.355258  1.467029\n",
        "1      1.454577 -0.981913\n",
        "2     -0.739761  0.303748\n",
        "3      1.335601 -1.238648\n",
        "4      0.810040  1.833603\n",
        "Total  3.215715  1.383820"
       ]
      }
     ],
     "prompt_number": 130
    },
    {
     "cell_type": "heading",
     "level": 1,
     "metadata": {},
     "source": [
      "Using dictionary to map value to categorical"
     ]
    },
    {
     "cell_type": "code",
     "collapsed": false,
     "input": [
      "WoE_categ = {'BLOCKED': 3.6594221426434292,\n",
      " 'SUSPENDED': 2.1838277397261119,\n",
      " 'ACCOUNT CLOSED': 2.0017607801296129,\n",
      " 'VACATION': 0.28365587961196709,\n",
      " 'VCAC': 2.0017607801296129,\n",
      " ' ': 4.7091126135615395,\n",
      " 'PENDING VALID CC': 0.98305554156534269,\n",
      " 'FRAUD': 3.3873558575584553,\n",
      " 'HOLD DISBURSEMENT': 3.2918827221015148,\n",
      " 'NORMAL': 0.72851221376948894,\n",
      " 'CS PENDING': 1.3086303491499975}\n",
      "\n",
      "myValue = np.array(['NORMAL', 'VACATION', 'HOLD DISBURSEMENT', 'PENDING VALID CC',\n",
      "       'SUSPENDED', ' ', 'BLOCKED', 'FRAUD', 'CS PENDING',\n",
      "       'ACCOUNT CLOSED', 'TERMINATED', 'PENDING SIVA VERIFICATION',\n",
      "       'PENDING REGISTRATION'])\n",
      "myValue = pd.Series(myValue)"
     ],
     "language": "python",
     "metadata": {},
     "outputs": [],
     "prompt_number": 152
    },
    {
     "cell_type": "markdown",
     "metadata": {},
     "source": [
      "Note: The keys missing in the dict WoE_categ will be shown as NaN when mapped. See the last 3 items in myValue."
     ]
    },
    {
     "cell_type": "code",
     "collapsed": false,
     "input": [
      "myValue.map(WoE_categ)"
     ],
     "language": "python",
     "metadata": {},
     "outputs": [
      {
       "metadata": {},
       "output_type": "pyout",
       "prompt_number": 153,
       "text": [
        "0     0.728512\n",
        "1     0.283656\n",
        "2     3.291883\n",
        "3     0.983056\n",
        "4     2.183828\n",
        "5     4.709113\n",
        "6     3.659422\n",
        "7     3.387356\n",
        "8     1.308630\n",
        "9     2.001761\n",
        "10         NaN\n",
        "11         NaN\n",
        "12         NaN\n",
        "dtype: float64"
       ]
      }
     ],
     "prompt_number": 153
    },
    {
     "cell_type": "heading",
     "level": 1,
     "metadata": {},
     "source": [
      "Check type of object"
     ]
    },
    {
     "cell_type": "code",
     "collapsed": false,
     "input": [
      "isinstance(dict({'A':[1,2,3]}), dict)\n",
      "isinstance(pd.DataFrame({'A':[1,2,3]}), type(pd.DataFrame()))\n",
      "isinstance(pd.Series(np.array([1,2,3])), type(pd.Series()))"
     ],
     "language": "python",
     "metadata": {},
     "outputs": [
      {
       "metadata": {},
       "output_type": "pyout",
       "prompt_number": 155,
       "text": [
        "True"
       ]
      }
     ],
     "prompt_number": 155
    },
    {
     "cell_type": "heading",
     "level": 1,
     "metadata": {},
     "source": [
      "Read write text file"
     ]
    },
    {
     "cell_type": "code",
     "collapsed": false,
     "input": [
      "# Write a file\n",
      "with open(\"test.txt\", \"wt\") as out_file:\n",
      "    out_file.write(\"This Text is going to out file\\nLook at it and see!\")\n",
      " \n",
      "# Read a file\n",
      "with open(\"test.txt\", \"rt\") as in_file:\n",
      "    text = in_file.read()\n",
      " \n",
      "print(text)"
     ],
     "language": "python",
     "metadata": {},
     "outputs": [
      {
       "output_type": "stream",
       "stream": "stdout",
       "text": [
        "This Text is going to out file\n",
        "Look at it and see!\n"
       ]
      }
     ],
     "prompt_number": 162
    },
    {
     "cell_type": "code",
     "collapsed": false,
     "input": [
      "out_file = open(\"test.txt\", \"wt\")\n",
      "out_file.write(\"This Text is going to out file\\nLook at it and see!\")\n",
      "for i in np.arange(0,10,1):\n",
      "    out_file.write( \"This Text is going to out file\\nLook at it and see!\" +' '+str(i)+'\\n' )\n",
      "out_file.write('#'*99)    \n",
      "out_file.close()\n",
      "\n",
      "in_file = open(\"test.txt\", \"rt\")\n",
      "text = in_file.read()\n",
      "in_file.close()\n",
      "print(text)"
     ],
     "language": "python",
     "metadata": {},
     "outputs": [
      {
       "output_type": "stream",
       "stream": "stdout",
       "text": [
        "This Text is going to out file\n",
        "Look at it and see!This Text is going to out file\n",
        "Look at it and see! 0\n",
        "This Text is going to out file\n",
        "Look at it and see! 1\n",
        "This Text is going to out file\n",
        "Look at it and see! 2\n",
        "This Text is going to out file\n",
        "Look at it and see! 3\n",
        "This Text is going to out file\n",
        "Look at it and see! 4\n",
        "This Text is going to out file\n",
        "Look at it and see! 5\n",
        "This Text is going to out file\n",
        "Look at it and see! 6\n",
        "This Text is going to out file\n",
        "Look at it and see! 7\n",
        "This Text is going to out file\n",
        "Look at it and see! 8\n",
        "This Text is going to out file\n",
        "Look at it and see! 9\n",
        "###################################################################################################\n"
       ]
      }
     ],
     "prompt_number": 175
    },
    {
     "cell_type": "code",
     "collapsed": false,
     "input": [
      "## append to the text file\n",
      "f = open('test.txt', 'a')\n",
      "f.write('crappp\\n')\n",
      "f.close()"
     ],
     "language": "python",
     "metadata": {},
     "outputs": [],
     "prompt_number": 177
    },
    {
     "cell_type": "heading",
     "level": 1,
     "metadata": {},
     "source": [
      "Iniatialize dataframe"
     ]
    },
    {
     "cell_type": "code",
     "collapsed": false,
     "input": [
      "a = pd.DataFrame(index=np.arange(0,5,1))\n",
      "a['A'] = np.array([3,4,5,6,7])\n",
      "a"
     ],
     "language": "python",
     "metadata": {},
     "outputs": [
      {
       "html": [
        "<div style=\"max-height:1000px;max-width:1500px;overflow:auto;\">\n",
        "<table border=\"1\" class=\"dataframe\">\n",
        "  <thead>\n",
        "    <tr style=\"text-align: right;\">\n",
        "      <th></th>\n",
        "      <th>A</th>\n",
        "    </tr>\n",
        "  </thead>\n",
        "  <tbody>\n",
        "    <tr>\n",
        "      <th>0</th>\n",
        "      <td> 3</td>\n",
        "    </tr>\n",
        "    <tr>\n",
        "      <th>1</th>\n",
        "      <td> 4</td>\n",
        "    </tr>\n",
        "    <tr>\n",
        "      <th>2</th>\n",
        "      <td> 5</td>\n",
        "    </tr>\n",
        "    <tr>\n",
        "      <th>3</th>\n",
        "      <td> 6</td>\n",
        "    </tr>\n",
        "    <tr>\n",
        "      <th>4</th>\n",
        "      <td> 7</td>\n",
        "    </tr>\n",
        "  </tbody>\n",
        "</table>\n",
        "</div>"
       ],
       "metadata": {},
       "output_type": "pyout",
       "prompt_number": 271,
       "text": [
        "   A\n",
        "0  3\n",
        "1  4\n",
        "2  5\n",
        "3  6\n",
        "4  7"
       ]
      }
     ],
     "prompt_number": 271
    },
    {
     "cell_type": "code",
     "collapsed": false,
     "input": [
      "a = pd.DataFrame({'A':[1,2,3],'B':['a','b','c']})\n",
      "a['C'] = pd.Series({})"
     ],
     "language": "python",
     "metadata": {},
     "outputs": [
      {
       "html": [
        "<div style=\"max-height:1000px;max-width:1500px;overflow:auto;\">\n",
        "<table border=\"1\" class=\"dataframe\">\n",
        "  <thead>\n",
        "    <tr style=\"text-align: right;\">\n",
        "      <th></th>\n",
        "      <th>A</th>\n",
        "      <th>B</th>\n",
        "      <th>C</th>\n",
        "    </tr>\n",
        "  </thead>\n",
        "  <tbody>\n",
        "    <tr>\n",
        "      <th>0</th>\n",
        "      <td> 1</td>\n",
        "      <td> a</td>\n",
        "      <td>NaN</td>\n",
        "    </tr>\n",
        "    <tr>\n",
        "      <th>1</th>\n",
        "      <td> 2</td>\n",
        "      <td> b</td>\n",
        "      <td>NaN</td>\n",
        "    </tr>\n",
        "    <tr>\n",
        "      <th>2</th>\n",
        "      <td> 3</td>\n",
        "      <td> c</td>\n",
        "      <td>NaN</td>\n",
        "    </tr>\n",
        "  </tbody>\n",
        "</table>\n",
        "</div>"
       ],
       "metadata": {},
       "output_type": "pyout",
       "prompt_number": 180,
       "text": [
        "   A  B   C\n",
        "0  1  a NaN\n",
        "1  2  b NaN\n",
        "2  3  c NaN"
       ]
      }
     ],
     "prompt_number": 180
    },
    {
     "cell_type": "code",
     "collapsed": false,
     "input": [
      "a['C'] = a.A.map(str)+a.B.map(str)\n",
      "a"
     ],
     "language": "python",
     "metadata": {},
     "outputs": [
      {
       "html": [
        "<div style=\"max-height:1000px;max-width:1500px;overflow:auto;\">\n",
        "<table border=\"1\" class=\"dataframe\">\n",
        "  <thead>\n",
        "    <tr style=\"text-align: right;\">\n",
        "      <th></th>\n",
        "      <th>A</th>\n",
        "      <th>B</th>\n",
        "      <th>C</th>\n",
        "    </tr>\n",
        "  </thead>\n",
        "  <tbody>\n",
        "    <tr>\n",
        "      <th>0</th>\n",
        "      <td> 1</td>\n",
        "      <td> a</td>\n",
        "      <td> 1a</td>\n",
        "    </tr>\n",
        "    <tr>\n",
        "      <th>1</th>\n",
        "      <td> 2</td>\n",
        "      <td> b</td>\n",
        "      <td> 2b</td>\n",
        "    </tr>\n",
        "    <tr>\n",
        "      <th>2</th>\n",
        "      <td> 3</td>\n",
        "      <td> c</td>\n",
        "      <td> 3c</td>\n",
        "    </tr>\n",
        "  </tbody>\n",
        "</table>\n",
        "</div>"
       ],
       "metadata": {},
       "output_type": "pyout",
       "prompt_number": 182,
       "text": [
        "   A  B   C\n",
        "0  1  a  1a\n",
        "1  2  b  2b\n",
        "2  3  c  3c"
       ]
      }
     ],
     "prompt_number": 182
    },
    {
     "cell_type": "heading",
     "level": 1,
     "metadata": {},
     "source": [
      "Index the data frame"
     ]
    },
    {
     "cell_type": "code",
     "collapsed": false,
     "input": [
      "a = pd.DataFrame({'A':np.arange(0,10,1),'B':list('abcdefghij')})\n",
      "print(a)\n",
      "b = pd.DataFrame({'C':np.arange(0,10,1),'D':list('abcdefghij')}, index=np.arange(0,10,1)+100)\n",
      "print(b)\n",
      "idx = b.C>=5\n",
      "print('before reindex',idx)\n",
      "\n",
      "## IndexingError: Unalignable boolean Series key provided\n",
      "## That's because idx has index 100-109, but a has 0-9\n",
      "#a[idx] \n",
      "\n",
      "## We need to reindex idx\n",
      "idx.index = a.index\n",
      "print('after reindexing',idx)\n",
      "a[idx]"
     ],
     "language": "python",
     "metadata": {},
     "outputs": [
      {
       "output_type": "stream",
       "stream": "stdout",
       "text": [
        "   A  B\n",
        "0  0  a\n",
        "1  1  b\n",
        "2  2  c\n",
        "3  3  d\n",
        "4  4  e\n",
        "5  5  f\n",
        "6  6  g\n",
        "7  7  h\n",
        "8  8  i\n",
        "9  9  j\n",
        "     C  D\n",
        "100  0  a\n",
        "101  1  b\n",
        "102  2  c\n",
        "103  3  d\n",
        "104  4  e\n",
        "105  5  f\n",
        "106  6  g\n",
        "107  7  h\n",
        "108  8  i\n",
        "109  9  j\n",
        "before reindex 100    False\n",
        "101    False\n",
        "102    False\n",
        "103    False\n",
        "104    False\n",
        "105     True\n",
        "106     True\n",
        "107     True\n",
        "108     True\n",
        "109     True\n",
        "Name: C, dtype: bool\n",
        "after reindexing 0    False\n",
        "1    False\n",
        "2    False\n",
        "3    False\n",
        "4    False\n",
        "5     True\n",
        "6     True\n",
        "7     True\n",
        "8     True\n",
        "9     True\n",
        "Name: C, dtype: bool\n"
       ]
      },
      {
       "html": [
        "<div style=\"max-height:1000px;max-width:1500px;overflow:auto;\">\n",
        "<table border=\"1\" class=\"dataframe\">\n",
        "  <thead>\n",
        "    <tr style=\"text-align: right;\">\n",
        "      <th></th>\n",
        "      <th>A</th>\n",
        "      <th>B</th>\n",
        "    </tr>\n",
        "  </thead>\n",
        "  <tbody>\n",
        "    <tr>\n",
        "      <th>5</th>\n",
        "      <td> 5</td>\n",
        "      <td> f</td>\n",
        "    </tr>\n",
        "    <tr>\n",
        "      <th>6</th>\n",
        "      <td> 6</td>\n",
        "      <td> g</td>\n",
        "    </tr>\n",
        "    <tr>\n",
        "      <th>7</th>\n",
        "      <td> 7</td>\n",
        "      <td> h</td>\n",
        "    </tr>\n",
        "    <tr>\n",
        "      <th>8</th>\n",
        "      <td> 8</td>\n",
        "      <td> i</td>\n",
        "    </tr>\n",
        "    <tr>\n",
        "      <th>9</th>\n",
        "      <td> 9</td>\n",
        "      <td> j</td>\n",
        "    </tr>\n",
        "  </tbody>\n",
        "</table>\n",
        "</div>"
       ],
       "metadata": {},
       "output_type": "pyout",
       "prompt_number": 195,
       "text": [
        "   A  B\n",
        "5  5  f\n",
        "6  6  g\n",
        "7  7  h\n",
        "8  8  i\n",
        "9  9  j"
       ]
      }
     ],
     "prompt_number": 195
    },
    {
     "cell_type": "heading",
     "level": 1,
     "metadata": {},
     "source": [
      "linspace, arange and concatenate arrays"
     ]
    },
    {
     "cell_type": "code",
     "collapsed": false,
     "input": [
      "a = np.linspace(start=0, stop=100, num=10, endpoint=False)\n",
      "a"
     ],
     "language": "python",
     "metadata": {},
     "outputs": [
      {
       "metadata": {},
       "output_type": "pyout",
       "prompt_number": 235,
       "text": [
        "array([  0.,  10.,  20.,  30.,  40.,  50.,  60.,  70.,  80.,  90.])"
       ]
      }
     ],
     "prompt_number": 235
    },
    {
     "cell_type": "code",
     "collapsed": false,
     "input": [
      "a = np.arange(0,101,10)\n",
      "a"
     ],
     "language": "python",
     "metadata": {},
     "outputs": [
      {
       "metadata": {},
       "output_type": "pyout",
       "prompt_number": 236,
       "text": [
        "array([  0,  10,  20,  30,  40,  50,  60,  70,  80,  90, 100])"
       ]
      }
     ],
     "prompt_number": 236
    },
    {
     "cell_type": "code",
     "collapsed": false,
     "input": [
      "a = np.arange(0,50,10)\n",
      "print('a:',a)\n",
      "b = np.arange(50,80,5)\n",
      "print('b:',b)\n",
      "c = np.arange(80,101,2)\n",
      "print('c:',c)\n",
      "np.concatenate((a,b,c), axis=0)"
     ],
     "language": "python",
     "metadata": {},
     "outputs": [
      {
       "output_type": "stream",
       "stream": "stdout",
       "text": [
        "a: [ 0 10 20 30 40]\n",
        "b: [50 55 60 65 70 75]\n",
        "c: [ 80  82  84  86  88  90  92  94  96  98 100]\n"
       ]
      },
      {
       "metadata": {},
       "output_type": "pyout",
       "prompt_number": 239,
       "text": [
        "array([  0,  10,  20,  30,  40,  50,  55,  60,  65,  70,  75,  80,  82,\n",
        "        84,  86,  88,  90,  92,  94,  96,  98, 100])"
       ]
      }
     ],
     "prompt_number": 239
    },
    {
     "cell_type": "heading",
     "level": 1,
     "metadata": {},
     "source": [
      "Dataframe arithmetics operations"
     ]
    },
    {
     "cell_type": "code",
     "collapsed": false,
     "input": [
      "df1 = pd.DataFrame({'A': np.random.randint(0,100,5), \n",
      "                    'B': np.random.randint(0,100,5),\n",
      "                    'C': np.random.randint(0,100,5)})\n",
      "print(df1)\n",
      "df_sum = df1.sum()\n",
      "print(df_sum)\n",
      "df_sum - df1"
     ],
     "language": "python",
     "metadata": {},
     "outputs": [
      {
       "output_type": "stream",
       "stream": "stdout",
       "text": [
        "    A   B   C\n",
        "0  76  60  24\n",
        "1  32  60  47\n",
        "2  29  25  90\n",
        "3  25  30  69\n",
        "4  48  99  38\n",
        "A    210\n",
        "B    274\n",
        "C    268\n",
        "dtype: int64\n"
       ]
      },
      {
       "html": [
        "<div style=\"max-height:1000px;max-width:1500px;overflow:auto;\">\n",
        "<table border=\"1\" class=\"dataframe\">\n",
        "  <thead>\n",
        "    <tr style=\"text-align: right;\">\n",
        "      <th></th>\n",
        "      <th>A</th>\n",
        "      <th>B</th>\n",
        "      <th>C</th>\n",
        "    </tr>\n",
        "  </thead>\n",
        "  <tbody>\n",
        "    <tr>\n",
        "      <th>0</th>\n",
        "      <td> 134</td>\n",
        "      <td> 214</td>\n",
        "      <td> 244</td>\n",
        "    </tr>\n",
        "    <tr>\n",
        "      <th>1</th>\n",
        "      <td> 178</td>\n",
        "      <td> 214</td>\n",
        "      <td> 221</td>\n",
        "    </tr>\n",
        "    <tr>\n",
        "      <th>2</th>\n",
        "      <td> 181</td>\n",
        "      <td> 249</td>\n",
        "      <td> 178</td>\n",
        "    </tr>\n",
        "    <tr>\n",
        "      <th>3</th>\n",
        "      <td> 185</td>\n",
        "      <td> 244</td>\n",
        "      <td> 199</td>\n",
        "    </tr>\n",
        "    <tr>\n",
        "      <th>4</th>\n",
        "      <td> 162</td>\n",
        "      <td> 175</td>\n",
        "      <td> 230</td>\n",
        "    </tr>\n",
        "  </tbody>\n",
        "</table>\n",
        "</div>"
       ],
       "metadata": {},
       "output_type": "pyout",
       "prompt_number": 241,
       "text": [
        "     A    B    C\n",
        "0  134  214  244\n",
        "1  178  214  221\n",
        "2  181  249  178\n",
        "3  185  244  199\n",
        "4  162  175  230"
       ]
      }
     ],
     "prompt_number": 241
    },
    {
     "cell_type": "heading",
     "level": 1,
     "metadata": {},
     "source": [
      "pointer concept"
     ]
    },
    {
     "cell_type": "code",
     "collapsed": false,
     "input": [
      "x = 1\n",
      "b = 2\n",
      "c = 3\n",
      "print('x b c:',hex(id(x)),hex(id(b)),hex(id(c)))"
     ],
     "language": "python",
     "metadata": {},
     "outputs": [
      {
       "output_type": "stream",
       "stream": "stdout",
       "text": [
        "x b c: 0x100240020 0x100240040 0x100240060\n"
       ]
      }
     ],
     "prompt_number": 268
    },
    {
     "cell_type": "code",
     "collapsed": false,
     "input": [
      "x = b\n",
      "print('x b c:',x,b,c)\n",
      "print('x b c:',hex(id(x)),hex(id(b)),hex(id(c)))"
     ],
     "language": "python",
     "metadata": {},
     "outputs": [
      {
       "output_type": "stream",
       "stream": "stdout",
       "text": [
        "x b c: 2 2 3\n",
        "x b c: 0x100240040 0x100240040 0x100240060\n"
       ]
      }
     ],
     "prompt_number": 269
    },
    {
     "cell_type": "code",
     "collapsed": false,
     "input": [
      "x = c\n",
      "print('x b c:',x,b,c)\n",
      "print('x b c:',hex(id(x)),hex(id(b)),hex(id(c)))"
     ],
     "language": "python",
     "metadata": {},
     "outputs": [
      {
       "output_type": "stream",
       "stream": "stdout",
       "text": [
        "x b c: 3 2 3\n",
        "x b c: 0x100240060 0x100240040 0x100240060\n"
       ]
      }
     ],
     "prompt_number": 270
    },
    {
     "cell_type": "heading",
     "level": 1,
     "metadata": {},
     "source": [
      "Input arguments from command line"
     ]
    },
    {
     "cell_type": "code",
     "collapsed": false,
     "input": [
      "import getopt\n",
      "args = '-a A -b -c123 -d bar a1 a2'.split()\n",
      "args"
     ],
     "language": "python",
     "metadata": {},
     "outputs": [
      {
       "metadata": {},
       "output_type": "pyout",
       "prompt_number": 299,
       "text": [
        "['-a', 'A', '-b', '-c123', '-d', 'bar', 'a1', 'a2']"
       ]
      }
     ],
     "prompt_number": 299
    },
    {
     "cell_type": "code",
     "collapsed": false,
     "input": [
      "optlist, my_args = getopt.getopt(args, 'a:bc:d:')"
     ],
     "language": "python",
     "metadata": {},
     "outputs": [],
     "prompt_number": 300
    },
    {
     "cell_type": "code",
     "collapsed": false,
     "input": [
      "optlist"
     ],
     "language": "python",
     "metadata": {},
     "outputs": [
      {
       "metadata": {},
       "output_type": "pyout",
       "prompt_number": 301,
       "text": [
        "[('-a', 'A'), ('-b', ''), ('-c', '123'), ('-d', 'bar')]"
       ]
      }
     ],
     "prompt_number": 301
    },
    {
     "cell_type": "code",
     "collapsed": false,
     "input": [
      "my_args"
     ],
     "language": "python",
     "metadata": {},
     "outputs": [
      {
       "metadata": {},
       "output_type": "pyout",
       "prompt_number": 297,
       "text": [
        "['a1', 'a2']"
       ]
      }
     ],
     "prompt_number": 297
    },
    {
     "cell_type": "code",
     "collapsed": false,
     "input": [
      "for i,j in optlist:\n",
      "    if i == '-c': j = float(j)\n",
      "    print(i,j,type(j))\n",
      "    "
     ],
     "language": "python",
     "metadata": {},
     "outputs": [
      {
       "output_type": "stream",
       "stream": "stdout",
       "text": [
        "-a A <class 'str'>\n",
        "-b  <class 'str'>\n",
        "-c 123.0 <class 'float'>\n",
        "-d bar <class 'str'>\n"
       ]
      }
     ],
     "prompt_number": 305
    },
    {
     "cell_type": "code",
     "collapsed": false,
     "input": [
      "optlist[2]."
     ],
     "language": "python",
     "metadata": {},
     "outputs": [
      {
       "metadata": {},
       "output_type": "pyout",
       "prompt_number": 304,
       "text": [
        "('-c', '123')"
       ]
      }
     ],
     "prompt_number": 304
    },
    {
     "cell_type": "heading",
     "level": 1,
     "metadata": {},
     "source": [
      "Using Thai in python"
     ]
    },
    {
     "cell_type": "markdown",
     "metadata": {},
     "source": [
      "for more details, please refer to another ipython notebook \"Using_Thai_in_iPython.ipynb\""
     ]
    },
    {
     "cell_type": "code",
     "collapsed": false,
     "input": [
      "s = \"\u0e2d\u0e30\u0e44\u0e23\u0e27\u0e30\u0e40\u0e19\u0e35\u0e48\u0e22\"\n",
      "print(s)"
     ],
     "language": "python",
     "metadata": {},
     "outputs": [
      {
       "output_type": "stream",
       "stream": "stdout",
       "text": [
        "\u0e2d\u0e30\u0e44\u0e23\u0e27\u0e30\u0e40\u0e19\u0e35\u0e48\u0e22\n"
       ]
      }
     ],
     "prompt_number": 1
    },
    {
     "cell_type": "code",
     "collapsed": false,
     "input": [
      "s.split(sep=\"\u0e30\")"
     ],
     "language": "python",
     "metadata": {},
     "outputs": [
      {
       "metadata": {},
       "output_type": "pyout",
       "prompt_number": 7,
       "text": [
        "['\u0e2d', '\u0e44\u0e23\u0e27', '\u0e40\u0e19\u0e35\u0e48\u0e22']"
       ]
      }
     ],
     "prompt_number": 7
    },
    {
     "cell_type": "code",
     "collapsed": false,
     "input": [
      "list(s)"
     ],
     "language": "python",
     "metadata": {},
     "outputs": [
      {
       "metadata": {},
       "output_type": "pyout",
       "prompt_number": 8,
       "text": [
        "['\u0e2d', '\u0e30', '\u0e44', '\u0e23', '\u0e27', '\u0e30', '\u0e40', '\u0e19', '\u0e35', '\u0e48', '\u0e22']"
       ]
      }
     ],
     "prompt_number": 8
    },
    {
     "cell_type": "code",
     "collapsed": false,
     "input": [
      "'\u0e2d\u0e30\u0e44' in s"
     ],
     "language": "python",
     "metadata": {},
     "outputs": [
      {
       "metadata": {},
       "output_type": "pyout",
       "prompt_number": 17,
       "text": [
        "True"
       ]
      }
     ],
     "prompt_number": 17
    },
    {
     "cell_type": "heading",
     "level": 1,
     "metadata": {},
     "source": [
      "Initializing dataframe and append a new one in a loop"
     ]
    },
    {
     "cell_type": "code",
     "collapsed": false,
     "input": [
      "## This is how we can keep appending a new record into dataframe.\n",
      "## This will be useful when appending a new record in a loop, not knowing the final size of the dataframe.\n",
      "    \n",
      "## (0) initialize an empty dataframe with known columns\n",
      "x = pd.DataFrame(columns=['a','b','c'])\n",
      "print(\"this is an empty dataframe:\\n\",x)\n",
      "## (1) a new record comes in\n",
      "y = {'a':\"bot\", 'b':70, 'c':'male'}\n",
      "y = pd.Series(y)\n",
      "x = x.append(y,ignore_index=True)\n",
      "\n",
      "## (2) another new record comes in\n",
      "y = {'a':\"Gif\", 'b':99, 'c':'female'}\n",
      "y = pd.Series(y)\n",
      "x = x.append(y,ignore_index=True)\n",
      "\n",
      "## we will have the final dataframe\n",
      "print(\"\\nthis is the dataframe:\\n\",x)"
     ],
     "language": "python",
     "metadata": {},
     "outputs": [
      {
       "output_type": "stream",
       "stream": "stdout",
       "text": [
        "this is an empty dataframe:\n",
        " Empty DataFrame\n",
        "Columns: [a, b, c]\n",
        "Index: []\n",
        "\n",
        "this is the dataframe:\n",
        "      a   b       c\n",
        "0  bot  70    male\n",
        "1  Gif  99  female\n"
       ]
      }
     ],
     "prompt_number": 5
    },
    {
     "cell_type": "heading",
     "level": 1,
     "metadata": {},
     "source": [
      "Write to Excel file"
     ]
    },
    {
     "cell_type": "code",
     "collapsed": false,
     "input": [
      "## write to excel file\n",
      "excelwriter = pd.ExcelWriter('good_boy_name.xlsx')\n",
      "out_name_day.to_excel(excel_writer = excelwriter, header=True, index=False)"
     ],
     "language": "python",
     "metadata": {},
     "outputs": []
    }
   ],
   "metadata": {}
  }
 ]
}