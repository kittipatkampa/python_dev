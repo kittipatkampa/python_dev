{
 "metadata": {
  "name": "",
  "signature": "sha256:3efe7f356e15af9dcd4eda5cd34df05e5b0e7d0985e9478d2c5606c18c7cb3f5"
 },
 "nbformat": 3,
 "nbformat_minor": 0,
 "worksheets": [
  {
   "cells": [
    {
     "cell_type": "code",
     "collapsed": false,
     "input": [
      "!git status"
     ],
     "language": "python",
     "metadata": {},
     "outputs": [
      {
       "output_type": "stream",
       "stream": "stdout",
       "text": [
        "On branch master\r\n",
        "Changes not staged for commit:\r\n",
        "  (use \"git add <file>...\" to update what will be committed)\r\n",
        "  (use \"git checkout -- <file>...\" to discard changes in working directory)\r\n",
        "\r\n",
        "\t\u001b[31mmodified:   test_matplotlib_1.ipynb\u001b[m\r\n",
        "\r\n",
        "Untracked files:\r\n",
        "  (use \"git add <file>...\" to include in what will be committed)\r\n",
        "\r\n",
        "\t\u001b[31m.DS_Store\u001b[m\r\n",
        "\t\u001b[31m.ipynb_checkpoints/\u001b[m\r\n",
        "\t\u001b[31m311-data.tar.gz\u001b[m\r\n",
        "\t\u001b[31m311-service-requests.csv\u001b[m\r\n",
        "\t\u001b[31mGit_demo.ipynb\u001b[m\r\n",
        "\t\u001b[31mPlay with dict.ipynb\u001b[m\r\n",
        "\t\u001b[31mPyData NYC 2013 tutorial.ipynb\u001b[m\r\n",
        "\t\u001b[31mUsing_Thai_in_iPython.ipynb\u001b[m\r\n",
        "\t\u001b[31m__pycache__/\u001b[m\r\n",
        "\t\u001b[31mbin_transform_data.ipynb\u001b[m\r\n",
        "\t\u001b[31mdata.h5\u001b[m\r\n",
        "\t\u001b[31mdemo_variable_transformation_WoE.ipynb\u001b[m\r\n",
        "\t\u001b[31mfunction_test_v0.py\u001b[m\r\n",
        "\t\u001b[31mpickle_list.pkl\u001b[m\r\n",
        "\t\u001b[31mpickle_test.pkl\u001b[m\r\n",
        "\t\u001b[31mplay with list.ipynb\u001b[m\r\n",
        "\t\u001b[31mpython_test_page.ipynb\u001b[m\r\n",
        "\t\u001b[31mrisk_score_v1.ipynb\u001b[m\r\n",
        "\t\u001b[31mtest.txt\u001b[m\r\n",
        "\t\u001b[31mtest2.ipynb\u001b[m\r\n",
        "\t\u001b[31mtitanic_WoE_table.txt\u001b[m\r\n",
        "\t\u001b[31mtitanic_woe.pkl\u001b[m\r\n",
        "\t\u001b[31mvariable_selection_elnet.ipynb\u001b[m\r\n",
        "\r\n",
        "no changes added to commit (use \"git add\" and/or \"git commit -a\")\r\n"
       ]
      }
     ],
     "prompt_number": 1
    },
    {
     "cell_type": "code",
     "collapsed": false,
     "input": [
      "%%file README\n",
      "\n",
      "A file with information about the Git_demo repository."
     ],
     "language": "python",
     "metadata": {},
     "outputs": [
      {
       "output_type": "stream",
       "stream": "stdout",
       "text": [
        "Writing README\n"
       ]
      }
     ],
     "prompt_number": 2
    },
    {
     "cell_type": "code",
     "collapsed": false,
     "input": [
      "!git status"
     ],
     "language": "python",
     "metadata": {},
     "outputs": [
      {
       "output_type": "stream",
       "stream": "stdout",
       "text": [
        "On branch master\r\n",
        "Changes not staged for commit:\r\n",
        "  (use \"git add <file>...\" to update what will be committed)\r\n",
        "  (use \"git checkout -- <file>...\" to discard changes in working directory)\r\n",
        "\r\n"
       ]
      },
      {
       "output_type": "stream",
       "stream": "stdout",
       "text": [
        "\t\u001b[31mmodified:   test_matplotlib_1.ipynb\u001b[m\r\n",
        "\r\n",
        "Untracked files:\r\n",
        "  (use \"git add <file>...\" to include in what will be committed)\r\n",
        "\r\n",
        "\t\u001b[31m.DS_Store\u001b[m\r\n",
        "\t\u001b[31m.ipynb_checkpoints/\u001b[m\r\n",
        "\t\u001b[31m311-data.tar.gz\u001b[m\r\n",
        "\t\u001b[31m311-service-requests.csv\u001b[m\r\n",
        "\t\u001b[31mGit_demo.ipynb\u001b[m\r\n",
        "\t\u001b[31mPlay with dict.ipynb\u001b[m\r\n",
        "\t\u001b[31mPyData NYC 2013 tutorial.ipynb\u001b[m\r\n",
        "\t\u001b[31mREADME\u001b[m\r\n",
        "\t\u001b[31mUsing_Thai_in_iPython.ipynb\u001b[m\r\n",
        "\t\u001b[31m__pycache__/\u001b[m\r\n",
        "\t\u001b[31mbin_transform_data.ipynb\u001b[m\r\n",
        "\t\u001b[31mdata.h5\u001b[m\r\n",
        "\t\u001b[31mdemo_variable_transformation_WoE.ipynb\u001b[m\r\n",
        "\t\u001b[31mfunction_test_v0.py\u001b[m\r\n",
        "\t\u001b[31mpickle_list.pkl\u001b[m\r\n",
        "\t\u001b[31mpickle_test.pkl\u001b[m\r\n",
        "\t\u001b[31mplay with list.ipynb\u001b[m\r\n",
        "\t\u001b[31mpython_test_page.ipynb\u001b[m\r\n",
        "\t\u001b[31mrisk_score_v1.ipynb\u001b[m\r\n",
        "\t\u001b[31mtest.txt\u001b[m\r\n",
        "\t\u001b[31mtest2.ipynb\u001b[m\r\n",
        "\t\u001b[31mtitanic_WoE_table.txt\u001b[m\r\n",
        "\t\u001b[31mtitanic_woe.pkl\u001b[m\r\n",
        "\t\u001b[31mvariable_selection_elnet.ipynb\u001b[m\r\n",
        "\r\n",
        "no changes added to commit (use \"git add\" and/or \"git commit -a\")\r\n"
       ]
      }
     ],
     "prompt_number": 3
    },
    {
     "cell_type": "code",
     "collapsed": false,
     "input": [
      "!git add README"
     ],
     "language": "python",
     "metadata": {},
     "outputs": [],
     "prompt_number": 4
    },
    {
     "cell_type": "code",
     "collapsed": false,
     "input": [
      "!git status"
     ],
     "language": "python",
     "metadata": {},
     "outputs": [
      {
       "output_type": "stream",
       "stream": "stdout",
       "text": [
        "On branch master\r\n",
        "Changes to be committed:\r\n",
        "  (use \"git reset HEAD <file>...\" to unstage)\r\n",
        "\r\n",
        "\t\u001b[32mnew file:   README\u001b[m\r\n",
        "\r\n",
        "Changes not staged for commit:\r\n",
        "  (use \"git add <file>...\" to update what will be committed)\r\n",
        "  (use \"git checkout -- <file>...\" to discard changes in working directory)\r\n",
        "\r\n",
        "\t\u001b[31mmodified:   test_matplotlib_1.ipynb\u001b[m\r\n",
        "\r\n",
        "Untracked files:\r\n",
        "  (use \"git add <file>...\" to include in what will be committed)\r\n",
        "\r\n",
        "\t\u001b[31m.DS_Store\u001b[m\r\n",
        "\t\u001b[31m.ipynb_checkpoints/\u001b[m\r\n",
        "\t\u001b[31m311-data.tar.gz\u001b[m\r\n",
        "\t\u001b[31m311-service-requests.csv\u001b[m\r\n",
        "\t\u001b[31mGit_demo.ipynb\u001b[m\r\n",
        "\t\u001b[31mPlay with dict.ipynb\u001b[m\r\n",
        "\t\u001b[31mPyData NYC 2013 tutorial.ipynb\u001b[m\r\n",
        "\t\u001b[31mUsing_Thai_in_iPython.ipynb\u001b[m\r\n",
        "\t\u001b[31m__pycache__/\u001b[m\r\n",
        "\t\u001b[31mbin_transform_data.ipynb\u001b[m\r\n",
        "\t\u001b[31mdata.h5\u001b[m\r\n",
        "\t\u001b[31mdemo_variable_transformation_WoE.ipynb\u001b[m\r\n",
        "\t\u001b[31mfunction_test_v0.py\u001b[m\r\n",
        "\t\u001b[31mpickle_list.pkl\u001b[m\r\n",
        "\t\u001b[31mpickle_test.pkl\u001b[m\r\n",
        "\t\u001b[31mplay with list.ipynb\u001b[m\r\n",
        "\t\u001b[31mpython_test_page.ipynb\u001b[m\r\n",
        "\t\u001b[31mrisk_score_v1.ipynb\u001b[m\r\n",
        "\t\u001b[31mtest.txt\u001b[m\r\n",
        "\t\u001b[31mtest2.ipynb\u001b[m\r\n",
        "\t\u001b[31mtitanic_WoE_table.txt\u001b[m\r\n",
        "\t\u001b[31mtitanic_woe.pkl\u001b[m\r\n",
        "\t\u001b[31mvariable_selection_elnet.ipynb\u001b[m\r\n",
        "\r\n"
       ]
      }
     ],
     "prompt_number": 5
    },
    {
     "cell_type": "code",
     "collapsed": false,
     "input": [
      "!git commit -m \"Added a README file\" README"
     ],
     "language": "python",
     "metadata": {},
     "outputs": [
      {
       "output_type": "stream",
       "stream": "stdout",
       "text": [
        "[master c411ff6] Added a README file\r\n",
        " 1 file changed, 2 insertions(+)\r\n",
        " create mode 100644 README\r\n"
       ]
      }
     ],
     "prompt_number": 6
    },
    {
     "cell_type": "code",
     "collapsed": false,
     "input": [
      "!ls -laht\n"
     ],
     "language": "python",
     "metadata": {},
     "outputs": [
      {
       "output_type": "stream",
       "stream": "stdout",
       "text": [
        "total 128768\r\n",
        "-rw-r--r--   1 kittipat  1896053708   8.0K Nov  9 11:23 Git_demo.ipynb\r\n",
        "drwxrwxrwx  13 kittipat  1896053708   442B Nov  9 11:23 \u001b[30m\u001b[43m.git\u001b[m\u001b[m\r\n",
        "drwxrwxrwx  29 kittipat  1896053708   986B Nov  9 11:20 \u001b[30m\u001b[43m.\u001b[m\u001b[m\r\n",
        "-rw-r--r--   1 kittipat  1896053708    55B Nov  9 11:20 README\r\n",
        "drwxrwxrwx  14 kittipat  1896053708   476B Nov  9 11:19 \u001b[30m\u001b[43m.ipynb_checkpoints\u001b[m\u001b[m\r\n",
        "-rw-r--r--   1 kittipat  1896053708   8.1K Nov  9 10:22 Recursion.ipynb\r\n",
        "-rw-r--r--   1 kittipat  1896053708   3.0K Nov  4 00:35 play with list.ipynb\r\n",
        "-rw-r--r--   1 kittipat  1896053708    12K Nov  3 01:31 Play with dict.ipynb\r\n",
        "drwxrwxrwx@ 21 kittipat  1896053708   714B Oct 24 23:42 \u001b[30m\u001b[43m..\u001b[m\u001b[m\r\n",
        "-rw-r--r--   1 kittipat  1896053708   4.5K Oct  9 17:16 variable_selection_elnet.ipynb\r\n",
        "-rw-r--r--   1 kittipat  1896053708    70K Sep 16 16:40 python_test_page.ipynb\r\n",
        "-rw-r--r--   1 kittipat  1896053708    78K Sep 14 03:31 demo_variable_transformation_WoE.ipynb\r\n",
        "-rw-r--r--   1 kittipat  1896053708   101K Sep 14 01:49 titanic_woe.pkl\r\n",
        "-rw-r--r--   1 kittipat  1896053708    31K Sep 14 01:41 titanic_WoE_table.txt\r\n",
        "-rw-r--r--   1 kittipat  1896053708   5.2K Sep  3 09:21 Using_Thai_in_iPython.ipynb\r\n",
        "-rw-r--r--   1 kittipat  1896053708   686B Aug 19 18:34 test.txt\r\n",
        "-rwxrwxrwx@  1 kittipat  1896053708   6.0K Aug 19 16:05 \u001b[31m.DS_Store\u001b[m\u001b[m\r\n",
        "-rw-r--r--   1 kittipat  1896053708   102B Aug 17 20:53 function_test_v0.py\r\n",
        "drwxr-xr-x   3 kittipat  1896053708   102B Aug 17 18:18 \u001b[34m__pycache__\u001b[m\u001b[m\r\n",
        "-rw-r--r--   1 kittipat  1896053708    58K Aug 15 11:55 bin_transform_data.ipynb\r\n",
        "-rw-r--r--   1 kittipat  1896053708   1.0K Aug 15 09:11 pickle_list.pkl\r\n",
        "-rw-r--r--   1 kittipat  1896053708   590B Aug 15 08:20 pickle_test.pkl\r\n",
        "-rw-r--r--   1 kittipat  1896053708    33K Aug 15 08:10 data.h5\r\n",
        "-rw-r--r--   1 kittipat  1896053708   423K Aug 15 07:05 risk_score_v1.ipynb\r\n",
        "-rw-r--r--@  1 kittipat  1896053708   1.3M Aug 12 14:56 PyData NYC 2013 tutorial.ipynb\r\n",
        "-rw-r--r--@  1 kittipat  1896053708   8.1M Aug 11 22:38 311-data.tar.gz\r\n",
        "-rw-r--r--   1 kittipat  1896053708    44K Aug  5 16:26 test2.ipynb\r\n",
        "-rwxrwxrwx   1 kittipat  1896053708   9.4K Apr 27  2014 \u001b[31mtest_matplotlib_1.ipynb\u001b[m\u001b[m\r\n",
        "-rw-r--r--@  1 kittipat  1896053708    53M Nov  1  2013 311-service-requests.csv\r\n"
       ]
      }
     ],
     "prompt_number": 7
    },
    {
     "cell_type": "code",
     "collapsed": false,
     "input": [
      "!git add python_test_page.ipynb"
     ],
     "language": "python",
     "metadata": {},
     "outputs": [],
     "prompt_number": 8
    },
    {
     "cell_type": "code",
     "collapsed": false,
     "input": [
      "!git commit -m \"add an ipython notebook file\" python_test_page.ipynb"
     ],
     "language": "python",
     "metadata": {},
     "outputs": [
      {
       "output_type": "stream",
       "stream": "stdout",
       "text": [
        "On branch master\r\n",
        "Changes not staged for commit:\r\n",
        "\t\u001b[31mmodified:   test_matplotlib_1.ipynb\u001b[m\r\n",
        "\r\n",
        "Untracked files:\r\n",
        "\t\u001b[31m.DS_Store\u001b[m\r\n",
        "\t\u001b[31m.ipynb_checkpoints/\u001b[m\r\n",
        "\t\u001b[31m311-data.tar.gz\u001b[m\r\n",
        "\t\u001b[31m311-service-requests.csv\u001b[m\r\n",
        "\t\u001b[31mGit_demo.ipynb\u001b[m\r\n",
        "\t\u001b[31mPlay with dict.ipynb\u001b[m\r\n",
        "\t\u001b[31mPyData NYC 2013 tutorial.ipynb\u001b[m\r\n",
        "\t\u001b[31mUsing_Thai_in_iPython.ipynb\u001b[m\r\n",
        "\t\u001b[31m__pycache__/\u001b[m\r\n",
        "\t\u001b[31mbin_transform_data.ipynb\u001b[m\r\n",
        "\t\u001b[31mdata.h5\u001b[m\r\n",
        "\t\u001b[31mdemo_variable_transformation_WoE.ipynb\u001b[m\r\n",
        "\t\u001b[31mfunction_test_v0.py\u001b[m\r\n",
        "\t\u001b[31mpickle_list.pkl\u001b[m\r\n",
        "\t\u001b[31mpickle_test.pkl\u001b[m\r\n",
        "\t\u001b[31mplay with list.ipynb\u001b[m\r\n",
        "\t\u001b[31mrisk_score_v1.ipynb\u001b[m\r\n",
        "\t\u001b[31mtest.txt\u001b[m\r\n",
        "\t\u001b[31mtest2.ipynb\u001b[m\r\n",
        "\t\u001b[31mtitanic_WoE_table.txt\u001b[m\r\n",
        "\t\u001b[31mtitanic_woe.pkl\u001b[m\r\n",
        "\t\u001b[31mvariable_selection_elnet.ipynb\u001b[m\r\n",
        "\r\n",
        "no changes added to commit\r\n"
       ]
      }
     ],
     "prompt_number": 11
    },
    {
     "cell_type": "code",
     "collapsed": false,
     "input": [
      "!git status"
     ],
     "language": "python",
     "metadata": {},
     "outputs": [
      {
       "output_type": "stream",
       "stream": "stdout",
       "text": [
        "On branch master\r\n",
        "Changes not staged for commit:\r\n",
        "  (use \"git add <file>...\" to update what will be committed)\r\n",
        "  (use \"git checkout -- <file>...\" to discard changes in working directory)\r\n",
        "\r\n",
        "\t\u001b[31mmodified:   test_matplotlib_1.ipynb\u001b[m\r\n",
        "\r\n",
        "Untracked files:\r\n",
        "  (use \"git add <file>...\" to include in what will be committed)\r\n",
        "\r\n",
        "\t\u001b[31m.DS_Store\u001b[m\r\n",
        "\t\u001b[31m.ipynb_checkpoints/\u001b[m\r\n",
        "\t\u001b[31m311-data.tar.gz\u001b[m\r\n",
        "\t\u001b[31m311-service-requests.csv\u001b[m\r\n",
        "\t\u001b[31mGit_demo.ipynb\u001b[m\r\n",
        "\t\u001b[31mPlay with dict.ipynb\u001b[m\r\n",
        "\t\u001b[31mPyData NYC 2013 tutorial.ipynb\u001b[m\r\n",
        "\t\u001b[31mUsing_Thai_in_iPython.ipynb\u001b[m\r\n",
        "\t\u001b[31m__pycache__/\u001b[m\r\n",
        "\t\u001b[31mbin_transform_data.ipynb\u001b[m\r\n",
        "\t\u001b[31mdata.h5\u001b[m\r\n",
        "\t\u001b[31mdemo_variable_transformation_WoE.ipynb\u001b[m\r\n",
        "\t\u001b[31mfunction_test_v0.py\u001b[m\r\n",
        "\t\u001b[31mpickle_list.pkl\u001b[m\r\n",
        "\t\u001b[31mpickle_test.pkl\u001b[m\r\n",
        "\t\u001b[31mplay with list.ipynb\u001b[m\r\n",
        "\t\u001b[31mrisk_score_v1.ipynb\u001b[m\r\n",
        "\t\u001b[31mtest.txt\u001b[m\r\n",
        "\t\u001b[31mtest2.ipynb\u001b[m\r\n",
        "\t\u001b[31mtitanic_WoE_table.txt\u001b[m\r\n",
        "\t\u001b[31mtitanic_woe.pkl\u001b[m\r\n",
        "\t\u001b[31mvariable_selection_elnet.ipynb\u001b[m\r\n",
        "\r\n",
        "no changes added to commit (use \"git add\" and/or \"git commit -a\")\r\n"
       ]
      }
     ],
     "prompt_number": 12
    },
    {
     "cell_type": "code",
     "collapsed": false,
     "input": [
      "%%file README\n",
      "\n",
      "A file with information about the gitdemo repository.\n",
      "\n",
      "A new line."
     ],
     "language": "python",
     "metadata": {},
     "outputs": [
      {
       "output_type": "stream",
       "stream": "stdout",
       "text": [
        "Overwriting README\n"
       ]
      }
     ],
     "prompt_number": 13
    },
    {
     "cell_type": "code",
     "collapsed": false,
     "input": [
      "!git status"
     ],
     "language": "python",
     "metadata": {},
     "outputs": [
      {
       "output_type": "stream",
       "stream": "stdout",
       "text": [
        "On branch master\r\n",
        "Changes not staged for commit:\r\n",
        "  (use \"git add <file>...\" to update what will be committed)\r\n",
        "  (use \"git checkout -- <file>...\" to discard changes in working directory)\r\n",
        "\r\n",
        "\t\u001b[31mmodified:   README\u001b[m\r\n",
        "\t\u001b[31mmodified:   test_matplotlib_1.ipynb\u001b[m\r\n",
        "\r\n",
        "Untracked files:\r\n",
        "  (use \"git add <file>...\" to include in what will be committed)\r\n",
        "\r\n",
        "\t\u001b[31m.DS_Store\u001b[m\r\n",
        "\t\u001b[31m.ipynb_checkpoints/\u001b[m\r\n",
        "\t\u001b[31m311-data.tar.gz\u001b[m\r\n",
        "\t\u001b[31m311-service-requests.csv\u001b[m\r\n",
        "\t\u001b[31mGit_demo.ipynb\u001b[m\r\n",
        "\t\u001b[31mPlay with dict.ipynb\u001b[m\r\n",
        "\t\u001b[31mPyData NYC 2013 tutorial.ipynb\u001b[m\r\n",
        "\t\u001b[31mUsing_Thai_in_iPython.ipynb\u001b[m\r\n",
        "\t\u001b[31m__pycache__/\u001b[m\r\n",
        "\t\u001b[31mbin_transform_data.ipynb\u001b[m\r\n",
        "\t\u001b[31mdata.h5\u001b[m\r\n",
        "\t\u001b[31mdemo_variable_transformation_WoE.ipynb\u001b[m\r\n",
        "\t\u001b[31mfunction_test_v0.py\u001b[m\r\n",
        "\t\u001b[31mpickle_list.pkl\u001b[m\r\n",
        "\t\u001b[31mpickle_test.pkl\u001b[m\r\n",
        "\t\u001b[31mplay with list.ipynb\u001b[m\r\n",
        "\t\u001b[31mrisk_score_v1.ipynb\u001b[m\r\n",
        "\t\u001b[31mtest.txt\u001b[m\r\n",
        "\t\u001b[31mtest2.ipynb\u001b[m\r\n",
        "\t\u001b[31mtitanic_WoE_table.txt\u001b[m\r\n",
        "\t\u001b[31mtitanic_woe.pkl\u001b[m\r\n",
        "\t\u001b[31mvariable_selection_elnet.ipynb\u001b[m\r\n",
        "\r\n",
        "no changes added to commit (use \"git add\" and/or \"git commit -a\")\r\n"
       ]
      }
     ],
     "prompt_number": 14
    },
    {
     "cell_type": "code",
     "collapsed": false,
     "input": [
      "!git commit -m \"added one more line in README\" README"
     ],
     "language": "python",
     "metadata": {},
     "outputs": [
      {
       "output_type": "stream",
       "stream": "stdout",
       "text": [
        "[master fa2a792] added one more line in README\r\n",
        " 1 file changed, 3 insertions(+), 1 deletion(-)\r\n"
       ]
      }
     ],
     "prompt_number": 15
    },
    {
     "cell_type": "code",
     "collapsed": false,
     "input": [
      "!git status"
     ],
     "language": "python",
     "metadata": {},
     "outputs": [
      {
       "output_type": "stream",
       "stream": "stdout",
       "text": [
        "On branch master\r\n",
        "Changes not staged for commit:\r\n",
        "  (use \"git add <file>...\" to update what will be committed)\r\n",
        "  (use \"git checkout -- <file>...\" to discard changes in working directory)\r\n",
        "\r\n",
        "\t\u001b[31mmodified:   test_matplotlib_1.ipynb\u001b[m\r\n",
        "\r\n",
        "Untracked files:\r\n",
        "  (use \"git add <file>...\" to include in what will be committed)\r\n",
        "\r\n",
        "\t\u001b[31m.DS_Store\u001b[m\r\n",
        "\t\u001b[31m.ipynb_checkpoints/\u001b[m\r\n",
        "\t\u001b[31m311-data.tar.gz\u001b[m\r\n",
        "\t\u001b[31m311-service-requests.csv\u001b[m\r\n",
        "\t\u001b[31mGit_demo.ipynb\u001b[m\r\n",
        "\t\u001b[31mPlay with dict.ipynb\u001b[m\r\n",
        "\t\u001b[31mPyData NYC 2013 tutorial.ipynb\u001b[m\r\n",
        "\t\u001b[31mUsing_Thai_in_iPython.ipynb\u001b[m\r\n",
        "\t\u001b[31m__pycache__/\u001b[m\r\n",
        "\t\u001b[31mbin_transform_data.ipynb\u001b[m\r\n",
        "\t\u001b[31mdata.h5\u001b[m\r\n",
        "\t\u001b[31mdemo_variable_transformation_WoE.ipynb\u001b[m\r\n",
        "\t\u001b[31mfunction_test_v0.py\u001b[m\r\n",
        "\t\u001b[31mpickle_list.pkl\u001b[m\r\n",
        "\t\u001b[31mpickle_test.pkl\u001b[m\r\n",
        "\t\u001b[31mplay with list.ipynb\u001b[m\r\n",
        "\t\u001b[31mrisk_score_v1.ipynb\u001b[m\r\n",
        "\t\u001b[31mtest.txt\u001b[m\r\n",
        "\t\u001b[31mtest2.ipynb\u001b[m\r\n",
        "\t\u001b[31mtitanic_WoE_table.txt\u001b[m\r\n",
        "\t\u001b[31mtitanic_woe.pkl\u001b[m\r\n",
        "\t\u001b[31mvariable_selection_elnet.ipynb\u001b[m\r\n",
        "\r\n",
        "no changes added to commit (use \"git add\" and/or \"git commit -a\")\r\n"
       ]
      }
     ],
     "prompt_number": 16
    },
    {
     "cell_type": "code",
     "collapsed": false,
     "input": [
      "!git remote"
     ],
     "language": "python",
     "metadata": {},
     "outputs": [
      {
       "output_type": "stream",
       "stream": "stdout",
       "text": [
        "mypy\r\n",
        "origin\r\n"
       ]
      }
     ],
     "prompt_number": 17
    },
    {
     "cell_type": "code",
     "collapsed": false,
     "input": [
      "!git remote show origin"
     ],
     "language": "python",
     "metadata": {},
     "outputs": [
      {
       "output_type": "stream",
       "stream": "stdout",
       "text": [
        "* remote origin\r\n",
        "  Fetch URL: https://github.com/kittipatkampa/python_dev.git\r\n",
        "  Push  URL: https://github.com/kittipatkampa/python_dev.git\r\n",
        "  HEAD branch: master\r\n",
        "  Remote branch:\r\n",
        "    master tracked\r\n",
        "  Local ref configured for 'git push':\r\n",
        "    master pushes to master (fast-forwardable)\r\n"
       ]
      }
     ],
     "prompt_number": 18
    },
    {
     "cell_type": "code",
     "collapsed": false,
     "input": [
      "!git add python_test_page.ipynb"
     ],
     "language": "python",
     "metadata": {},
     "outputs": [],
     "prompt_number": 20
    },
    {
     "cell_type": "code",
     "collapsed": false,
     "input": [
      "!git commit -m \"the python test page\" python_test_page.ipynb"
     ],
     "language": "python",
     "metadata": {},
     "outputs": [
      {
       "output_type": "stream",
       "stream": "stdout",
       "text": [
        "On branch master\r\n",
        "Changes not staged for commit:\r\n",
        "\t\u001b[31mmodified:   test_matplotlib_1.ipynb\u001b[m\r\n",
        "\r\n",
        "Untracked files:\r\n",
        "\t\u001b[31m.DS_Store\u001b[m\r\n",
        "\t\u001b[31m.ipynb_checkpoints/\u001b[m\r\n",
        "\t\u001b[31m311-data.tar.gz\u001b[m\r\n",
        "\t\u001b[31m311-service-requests.csv\u001b[m\r\n",
        "\t\u001b[31mGit_demo.ipynb\u001b[m\r\n",
        "\t\u001b[31mPlay with dict.ipynb\u001b[m\r\n",
        "\t\u001b[31mPyData NYC 2013 tutorial.ipynb\u001b[m\r\n",
        "\t\u001b[31mUsing_Thai_in_iPython.ipynb\u001b[m\r\n",
        "\t\u001b[31m__pycache__/\u001b[m\r\n",
        "\t\u001b[31mbin_transform_data.ipynb\u001b[m\r\n",
        "\t\u001b[31mdata.h5\u001b[m\r\n",
        "\t\u001b[31mdemo_variable_transformation_WoE.ipynb\u001b[m\r\n",
        "\t\u001b[31mfunction_test_v0.py\u001b[m\r\n",
        "\t\u001b[31mpickle_list.pkl\u001b[m\r\n",
        "\t\u001b[31mpickle_test.pkl\u001b[m\r\n",
        "\t\u001b[31mplay with list.ipynb\u001b[m\r\n",
        "\t\u001b[31mrisk_score_v1.ipynb\u001b[m\r\n",
        "\t\u001b[31mtest.txt\u001b[m\r\n",
        "\t\u001b[31mtest2.ipynb\u001b[m\r\n",
        "\t\u001b[31mtitanic_WoE_table.txt\u001b[m\r\n",
        "\t\u001b[31mtitanic_woe.pkl\u001b[m\r\n",
        "\t\u001b[31mvariable_selection_elnet.ipynb\u001b[m\r\n",
        "\r\n",
        "no changes added to commit\r\n"
       ]
      }
     ],
     "prompt_number": 21
    },
    {
     "cell_type": "code",
     "collapsed": false,
     "input": [
      "!git push"
     ],
     "language": "python",
     "metadata": {},
     "outputs": [
      {
       "output_type": "stream",
       "stream": "stdout",
       "text": [
        "warning: push.default is unset; its implicit value is changing in\r\n",
        "Git 2.0 from 'matching' to 'simple'. To squelch this message\r\n",
        "and maintain the current behavior after the default changes, use:\r\n",
        "\r\n",
        "  git config --global push.default matching\r\n",
        "\r\n",
        "To squelch this message and adopt the new behavior now, use:\r\n",
        "\r\n",
        "  git config --global push.default simple\r\n",
        "\r\n",
        "When push.default is set to 'matching', git will push local branches\r\n",
        "to the remote branches that already exist with the same name.\r\n",
        "\r\n",
        "In Git 2.0, Git will default to the more conservative 'simple'\r\n",
        "behavior, which only pushes the current branch to the corresponding\r\n",
        "remote branch that 'git pull' uses to update the current branch.\r\n",
        "\r\n",
        "See 'git help config' and search for 'push.default' for further information.\r\n",
        "(the 'simple' mode was introduced in Git 1.7.11. Use the similar mode\r\n",
        "'current' instead of 'simple' if you sometimes use older versions of Git)\r\n",
        "\r\n"
       ]
      },
      {
       "output_type": "stream",
       "stream": "stdout",
       "text": [
        "Everything up-to-date\r\n"
       ]
      }
     ],
     "prompt_number": 22
    },
    {
     "cell_type": "code",
     "collapsed": false,
     "input": [],
     "language": "python",
     "metadata": {},
     "outputs": []
    }
   ],
   "metadata": {}
  }
 ]
}