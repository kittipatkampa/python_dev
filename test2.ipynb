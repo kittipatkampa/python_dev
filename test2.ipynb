{
 "metadata": {
  "name": "",
  "signature": "sha256:a2994dba1174af3bd7b42887707dd8897f164adaaa1624ad3abf88a5fcfbc30d"
 },
 "nbformat": 3,
 "nbformat_minor": 0,
 "worksheets": [
  {
   "cells": [
    {
     "cell_type": "markdown",
     "metadata": {},
     "source": [
      "This document is created for testing pandas. "
     ]
    },
    {
     "cell_type": "code",
     "collapsed": false,
     "input": [
      "import pandas as pd\n",
      "import numpy as np\n",
      "import matplotlib.pyplot as plt"
     ],
     "language": "python",
     "metadata": {},
     "outputs": [],
     "prompt_number": 11
    },
    {
     "cell_type": "heading",
     "level": 1,
     "metadata": {},
     "source": [
      "Create data"
     ]
    },
    {
     "cell_type": "markdown",
     "metadata": {},
     "source": [
      "This part is to create the data"
     ]
    },
    {
     "cell_type": "markdown",
     "metadata": {},
     "source": [
      "Creating a Series by passing a list of values, letting pandas create a default integer index"
     ]
    },
    {
     "cell_type": "code",
     "collapsed": false,
     "input": [
      "s = pd.Series([1,3,5,np.nan,6,8])\n",
      "s"
     ],
     "language": "python",
     "metadata": {},
     "outputs": [
      {
       "metadata": {},
       "output_type": "pyout",
       "prompt_number": 73,
       "text": [
        "0     1\n",
        "1     3\n",
        "2     5\n",
        "3   NaN\n",
        "4     6\n",
        "5     8\n",
        "dtype: float64"
       ]
      }
     ],
     "prompt_number": 73
    },
    {
     "cell_type": "markdown",
     "metadata": {},
     "source": [
      "We can use s.__class__.__name__ or type(s).__name__ to get the class name of the object s"
     ]
    },
    {
     "cell_type": "code",
     "collapsed": false,
     "input": [
      "print(s.__class__.__name__)\n",
      "print(type(s).__name__)"
     ],
     "language": "python",
     "metadata": {},
     "outputs": [
      {
       "output_type": "stream",
       "stream": "stdout",
       "text": [
        "Series\n",
        "Series\n"
       ]
      }
     ],
     "prompt_number": 77
    },
    {
     "cell_type": "code",
     "collapsed": false,
     "input": [
      "dates = pd.date_range('20140101',periods=6)\n",
      "print(dates)\n",
      "print(type(dates).__name__)"
     ],
     "language": "python",
     "metadata": {},
     "outputs": [
      {
       "output_type": "stream",
       "stream": "stdout",
       "text": [
        "<class 'pandas.tseries.index.DatetimeIndex'>\n",
        "[2014-01-01, ..., 2014-01-06]\n",
        "Length: 6, Freq: D, Timezone: None\n",
        "DatetimeIndex\n"
       ]
      }
     ],
     "prompt_number": 82
    },
    {
     "cell_type": "code",
     "collapsed": false,
     "input": [
      "df = pd.DataFrame(np.random.randn(6,4),\n",
      "                  index=dates,columns=list('ABCD'))\n",
      "df"
     ],
     "language": "python",
     "metadata": {},
     "outputs": [
      {
       "html": [
        "<div style=\"max-height:1000px;max-width:1500px;overflow:auto;\">\n",
        "<table border=\"1\" class=\"dataframe\">\n",
        "  <thead>\n",
        "    <tr style=\"text-align: right;\">\n",
        "      <th></th>\n",
        "      <th>A</th>\n",
        "      <th>B</th>\n",
        "      <th>C</th>\n",
        "      <th>D</th>\n",
        "    </tr>\n",
        "  </thead>\n",
        "  <tbody>\n",
        "    <tr>\n",
        "      <th>2014-01-01</th>\n",
        "      <td> 0.370113</td>\n",
        "      <td>-1.594972</td>\n",
        "      <td>-1.037191</td>\n",
        "      <td> 1.464897</td>\n",
        "    </tr>\n",
        "    <tr>\n",
        "      <th>2014-01-02</th>\n",
        "      <td> 0.420930</td>\n",
        "      <td>-1.800068</td>\n",
        "      <td>-0.733242</td>\n",
        "      <td>-0.561537</td>\n",
        "    </tr>\n",
        "    <tr>\n",
        "      <th>2014-01-03</th>\n",
        "      <td> 0.492123</td>\n",
        "      <td> 0.613865</td>\n",
        "      <td> 0.546994</td>\n",
        "      <td>-2.486000</td>\n",
        "    </tr>\n",
        "    <tr>\n",
        "      <th>2014-01-04</th>\n",
        "      <td>-0.223033</td>\n",
        "      <td> 1.090973</td>\n",
        "      <td>-0.183848</td>\n",
        "      <td>-0.229992</td>\n",
        "    </tr>\n",
        "    <tr>\n",
        "      <th>2014-01-05</th>\n",
        "      <td>-0.060801</td>\n",
        "      <td> 0.216354</td>\n",
        "      <td> 0.533395</td>\n",
        "      <td> 0.650149</td>\n",
        "    </tr>\n",
        "    <tr>\n",
        "      <th>2014-01-06</th>\n",
        "      <td>-0.324651</td>\n",
        "      <td>-0.156320</td>\n",
        "      <td> 0.603658</td>\n",
        "      <td>-0.325241</td>\n",
        "    </tr>\n",
        "  </tbody>\n",
        "</table>\n",
        "</div>"
       ],
       "metadata": {},
       "output_type": "pyout",
       "prompt_number": 87,
       "text": [
        "                   A         B         C         D\n",
        "2014-01-01  0.370113 -1.594972 -1.037191  1.464897\n",
        "2014-01-02  0.420930 -1.800068 -0.733242 -0.561537\n",
        "2014-01-03  0.492123  0.613865  0.546994 -2.486000\n",
        "2014-01-04 -0.223033  1.090973 -0.183848 -0.229992\n",
        "2014-01-05 -0.060801  0.216354  0.533395  0.650149\n",
        "2014-01-06 -0.324651 -0.156320  0.603658 -0.325241"
       ]
      }
     ],
     "prompt_number": 87
    },
    {
     "cell_type": "markdown",
     "metadata": {},
     "source": [
      "List will break the component into small pieces."
     ]
    },
    {
     "cell_type": "code",
     "collapsed": false,
     "input": [
      "L1 = list('ABCDE')\n",
      "print(L1)\n",
      "L2 = list(range(4))\n",
      "print(L2)"
     ],
     "language": "python",
     "metadata": {},
     "outputs": [
      {
       "output_type": "stream",
       "stream": "stdout",
       "text": [
        "['A', 'B', 'C', 'D', 'E']\n",
        "[0, 1, 2, 3]\n"
       ]
      }
     ],
     "prompt_number": 90
    },
    {
     "cell_type": "markdown",
     "metadata": {},
     "source": [
      "Creating a DataFrame by passing a dict of objects that can be converted to series-like."
     ]
    },
    {
     "cell_type": "code",
     "collapsed": false,
     "input": [
      "df2 = pd.DataFrame({ 'A' : 1.,\n",
      "                     'B' : pd.Timestamp('20130102'),\n",
      "                     'C' : pd.Series(1,index=list(range(4)),dtype='float32'),\n",
      "                     'D' : np.array([3] * 4,dtype='int32'),\n",
      "                     'E' : 'foo' })\n",
      "df2"
     ],
     "language": "python",
     "metadata": {},
     "outputs": [
      {
       "html": [
        "<div style=\"max-height:1000px;max-width:1500px;overflow:auto;\">\n",
        "<table border=\"1\" class=\"dataframe\">\n",
        "  <thead>\n",
        "    <tr style=\"text-align: right;\">\n",
        "      <th></th>\n",
        "      <th>A</th>\n",
        "      <th>B</th>\n",
        "      <th>C</th>\n",
        "      <th>D</th>\n",
        "      <th>E</th>\n",
        "    </tr>\n",
        "  </thead>\n",
        "  <tbody>\n",
        "    <tr>\n",
        "      <th>0</th>\n",
        "      <td> 1</td>\n",
        "      <td>2013-01-02</td>\n",
        "      <td> 1</td>\n",
        "      <td> 3</td>\n",
        "      <td> foo</td>\n",
        "    </tr>\n",
        "    <tr>\n",
        "      <th>1</th>\n",
        "      <td> 1</td>\n",
        "      <td>2013-01-02</td>\n",
        "      <td> 1</td>\n",
        "      <td> 3</td>\n",
        "      <td> foo</td>\n",
        "    </tr>\n",
        "    <tr>\n",
        "      <th>2</th>\n",
        "      <td> 1</td>\n",
        "      <td>2013-01-02</td>\n",
        "      <td> 1</td>\n",
        "      <td> 3</td>\n",
        "      <td> foo</td>\n",
        "    </tr>\n",
        "    <tr>\n",
        "      <th>3</th>\n",
        "      <td> 1</td>\n",
        "      <td>2013-01-02</td>\n",
        "      <td> 1</td>\n",
        "      <td> 3</td>\n",
        "      <td> foo</td>\n",
        "    </tr>\n",
        "  </tbody>\n",
        "</table>\n",
        "</div>"
       ],
       "metadata": {},
       "output_type": "pyout",
       "prompt_number": 91,
       "text": [
        "   A          B  C  D    E\n",
        "0  1 2013-01-02  1  3  foo\n",
        "1  1 2013-01-02  1  3  foo\n",
        "2  1 2013-01-02  1  3  foo\n",
        "3  1 2013-01-02  1  3  foo"
       ]
      }
     ],
     "prompt_number": 91
    },
    {
     "cell_type": "markdown",
     "metadata": {},
     "source": [
      "List the property of each column"
     ]
    },
    {
     "cell_type": "code",
     "collapsed": false,
     "input": [
      "df2.dtypes"
     ],
     "language": "python",
     "metadata": {},
     "outputs": [
      {
       "metadata": {},
       "output_type": "pyout",
       "prompt_number": 93,
       "text": [
        "A           float64\n",
        "B    datetime64[ns]\n",
        "C           float32\n",
        "D             int32\n",
        "E            object\n",
        "dtype: object"
       ]
      }
     ],
     "prompt_number": 93
    },
    {
     "cell_type": "code",
     "collapsed": false,
     "input": [
      "df.head(3)\n",
      "df.tail()"
     ],
     "language": "python",
     "metadata": {},
     "outputs": [
      {
       "html": [
        "<div style=\"max-height:1000px;max-width:1500px;overflow:auto;\">\n",
        "<table border=\"1\" class=\"dataframe\">\n",
        "  <thead>\n",
        "    <tr style=\"text-align: right;\">\n",
        "      <th></th>\n",
        "      <th>A</th>\n",
        "      <th>B</th>\n",
        "      <th>C</th>\n",
        "      <th>D</th>\n",
        "    </tr>\n",
        "  </thead>\n",
        "  <tbody>\n",
        "    <tr>\n",
        "      <th>2014-01-02</th>\n",
        "      <td> 0.420930</td>\n",
        "      <td>-1.800068</td>\n",
        "      <td>-0.733242</td>\n",
        "      <td>-0.561537</td>\n",
        "    </tr>\n",
        "    <tr>\n",
        "      <th>2014-01-03</th>\n",
        "      <td> 0.492123</td>\n",
        "      <td> 0.613865</td>\n",
        "      <td> 0.546994</td>\n",
        "      <td>-2.486000</td>\n",
        "    </tr>\n",
        "    <tr>\n",
        "      <th>2014-01-04</th>\n",
        "      <td>-0.223033</td>\n",
        "      <td> 1.090973</td>\n",
        "      <td>-0.183848</td>\n",
        "      <td>-0.229992</td>\n",
        "    </tr>\n",
        "    <tr>\n",
        "      <th>2014-01-05</th>\n",
        "      <td>-0.060801</td>\n",
        "      <td> 0.216354</td>\n",
        "      <td> 0.533395</td>\n",
        "      <td> 0.650149</td>\n",
        "    </tr>\n",
        "    <tr>\n",
        "      <th>2014-01-06</th>\n",
        "      <td>-0.324651</td>\n",
        "      <td>-0.156320</td>\n",
        "      <td> 0.603658</td>\n",
        "      <td>-0.325241</td>\n",
        "    </tr>\n",
        "  </tbody>\n",
        "</table>\n",
        "</div>"
       ],
       "metadata": {},
       "output_type": "pyout",
       "prompt_number": 103,
       "text": [
        "                   A         B         C         D\n",
        "2014-01-02  0.420930 -1.800068 -0.733242 -0.561537\n",
        "2014-01-03  0.492123  0.613865  0.546994 -2.486000\n",
        "2014-01-04 -0.223033  1.090973 -0.183848 -0.229992\n",
        "2014-01-05 -0.060801  0.216354  0.533395  0.650149\n",
        "2014-01-06 -0.324651 -0.156320  0.603658 -0.325241"
       ]
      }
     ],
     "prompt_number": 103
    },
    {
     "cell_type": "markdown",
     "metadata": {},
     "source": [
      "Extract row index, column names and the values only. "
     ]
    },
    {
     "cell_type": "code",
     "collapsed": false,
     "input": [
      "print(df2.index)\n",
      "print(df2.columns)"
     ],
     "language": "python",
     "metadata": {},
     "outputs": [
      {
       "output_type": "stream",
       "stream": "stdout",
       "text": [
        "Int64Index([0, 1, 2, 3], dtype='int64')\n",
        "Index(['A', 'B', 'C', 'D', 'E'], dtype='object')\n"
       ]
      }
     ],
     "prompt_number": 107
    },
    {
     "cell_type": "code",
     "collapsed": false,
     "input": [
      "df2.columns"
     ],
     "language": "python",
     "metadata": {},
     "outputs": [
      {
       "metadata": {},
       "output_type": "pyout",
       "prompt_number": 109,
       "text": [
        "Index(['A', 'B', 'C', 'D', 'E'], dtype='object')"
       ]
      }
     ],
     "prompt_number": 109
    },
    {
     "cell_type": "code",
     "collapsed": false,
     "input": [
      "df.values"
     ],
     "language": "python",
     "metadata": {},
     "outputs": [
      {
       "metadata": {},
       "output_type": "pyout",
       "prompt_number": 112,
       "text": [
        "array([[ 0.3701133 , -1.59497204, -1.0371915 ,  1.46489727],\n",
        "       [ 0.42092988, -1.80006831, -0.7332423 , -0.5615366 ],\n",
        "       [ 0.49212255,  0.6138647 ,  0.54699357, -2.48600017],\n",
        "       [-0.22303318,  1.09097341, -0.18384823, -0.22999245],\n",
        "       [-0.06080143,  0.21635416,  0.53339479,  0.65014882],\n",
        "       [-0.32465081, -0.15631999,  0.60365817, -0.32524148]])"
       ]
      }
     ],
     "prompt_number": 112
    },
    {
     "cell_type": "code",
     "collapsed": false,
     "input": [
      "df2.values"
     ],
     "language": "python",
     "metadata": {},
     "outputs": [
      {
       "metadata": {},
       "output_type": "pyout",
       "prompt_number": 113,
       "text": [
        "array([[1.0, Timestamp('2013-01-02 00:00:00'), 1.0, 3, 'foo'],\n",
        "       [1.0, Timestamp('2013-01-02 00:00:00'), 1.0, 3, 'foo'],\n",
        "       [1.0, Timestamp('2013-01-02 00:00:00'), 1.0, 3, 'foo'],\n",
        "       [1.0, Timestamp('2013-01-02 00:00:00'), 1.0, 3, 'foo']], dtype=object)"
       ]
      }
     ],
     "prompt_number": 113
    },
    {
     "cell_type": "markdown",
     "metadata": {},
     "source": [
      "Describe shows a quick statistic summary of your data. Note that the result is also a panda dataframe."
     ]
    },
    {
     "cell_type": "code",
     "collapsed": false,
     "input": [
      "df.describe()"
     ],
     "language": "python",
     "metadata": {},
     "outputs": [
      {
       "html": [
        "<div style=\"max-height:1000px;max-width:1500px;overflow:auto;\">\n",
        "<table border=\"1\" class=\"dataframe\">\n",
        "  <thead>\n",
        "    <tr style=\"text-align: right;\">\n",
        "      <th></th>\n",
        "      <th>A</th>\n",
        "      <th>B</th>\n",
        "      <th>C</th>\n",
        "      <th>D</th>\n",
        "    </tr>\n",
        "  </thead>\n",
        "  <tbody>\n",
        "    <tr>\n",
        "      <th>count</th>\n",
        "      <td> 6.000000</td>\n",
        "      <td> 6.000000</td>\n",
        "      <td> 6.000000</td>\n",
        "      <td> 6.000000</td>\n",
        "    </tr>\n",
        "    <tr>\n",
        "      <th>mean</th>\n",
        "      <td> 0.112447</td>\n",
        "      <td>-0.271695</td>\n",
        "      <td>-0.045039</td>\n",
        "      <td>-0.247954</td>\n",
        "    </tr>\n",
        "    <tr>\n",
        "      <th>std</th>\n",
        "      <td> 0.357582</td>\n",
        "      <td> 1.181488</td>\n",
        "      <td> 0.718770</td>\n",
        "      <td> 1.330709</td>\n",
        "    </tr>\n",
        "    <tr>\n",
        "      <th>min</th>\n",
        "      <td>-0.324651</td>\n",
        "      <td>-1.800068</td>\n",
        "      <td>-1.037191</td>\n",
        "      <td>-2.486000</td>\n",
        "    </tr>\n",
        "    <tr>\n",
        "      <th>25%</th>\n",
        "      <td>-0.182475</td>\n",
        "      <td>-1.235309</td>\n",
        "      <td>-0.595894</td>\n",
        "      <td>-0.502463</td>\n",
        "    </tr>\n",
        "    <tr>\n",
        "      <th>50%</th>\n",
        "      <td> 0.154656</td>\n",
        "      <td> 0.030017</td>\n",
        "      <td> 0.174773</td>\n",
        "      <td>-0.277617</td>\n",
        "    </tr>\n",
        "    <tr>\n",
        "      <th>75%</th>\n",
        "      <td> 0.408226</td>\n",
        "      <td> 0.514487</td>\n",
        "      <td> 0.543594</td>\n",
        "      <td> 0.430114</td>\n",
        "    </tr>\n",
        "    <tr>\n",
        "      <th>max</th>\n",
        "      <td> 0.492123</td>\n",
        "      <td> 1.090973</td>\n",
        "      <td> 0.603658</td>\n",
        "      <td> 1.464897</td>\n",
        "    </tr>\n",
        "  </tbody>\n",
        "</table>\n",
        "</div>"
       ],
       "metadata": {},
       "output_type": "pyout",
       "prompt_number": 117,
       "text": [
        "              A         B         C         D\n",
        "count  6.000000  6.000000  6.000000  6.000000\n",
        "mean   0.112447 -0.271695 -0.045039 -0.247954\n",
        "std    0.357582  1.181488  0.718770  1.330709\n",
        "min   -0.324651 -1.800068 -1.037191 -2.486000\n",
        "25%   -0.182475 -1.235309 -0.595894 -0.502463\n",
        "50%    0.154656  0.030017  0.174773 -0.277617\n",
        "75%    0.408226  0.514487  0.543594  0.430114\n",
        "max    0.492123  1.090973  0.603658  1.464897"
       ]
      }
     ],
     "prompt_number": 117
    },
    {
     "cell_type": "code",
     "collapsed": false,
     "input": [
      "type(df.describe())"
     ],
     "language": "python",
     "metadata": {},
     "outputs": [
      {
       "metadata": {},
       "output_type": "pyout",
       "prompt_number": 119,
       "text": [
        "pandas.core.frame.DataFrame"
       ]
      }
     ],
     "prompt_number": 119
    },
    {
     "cell_type": "markdown",
     "metadata": {},
     "source": [
      "We can also transpose the data frame (switch rows and columns)."
     ]
    },
    {
     "cell_type": "code",
     "collapsed": false,
     "input": [
      "df.T"
     ],
     "language": "python",
     "metadata": {},
     "outputs": [
      {
       "html": [
        "<div style=\"max-height:1000px;max-width:1500px;overflow:auto;\">\n",
        "<table border=\"1\" class=\"dataframe\">\n",
        "  <thead>\n",
        "    <tr style=\"text-align: right;\">\n",
        "      <th></th>\n",
        "      <th>2014-01-01 00:00:00</th>\n",
        "      <th>2014-01-02 00:00:00</th>\n",
        "      <th>2014-01-03 00:00:00</th>\n",
        "      <th>2014-01-04 00:00:00</th>\n",
        "      <th>2014-01-05 00:00:00</th>\n",
        "      <th>2014-01-06 00:00:00</th>\n",
        "    </tr>\n",
        "  </thead>\n",
        "  <tbody>\n",
        "    <tr>\n",
        "      <th>A</th>\n",
        "      <td> 0.370113</td>\n",
        "      <td> 0.420930</td>\n",
        "      <td> 0.492123</td>\n",
        "      <td>-0.223033</td>\n",
        "      <td>-0.060801</td>\n",
        "      <td>-0.324651</td>\n",
        "    </tr>\n",
        "    <tr>\n",
        "      <th>B</th>\n",
        "      <td>-1.594972</td>\n",
        "      <td>-1.800068</td>\n",
        "      <td> 0.613865</td>\n",
        "      <td> 1.090973</td>\n",
        "      <td> 0.216354</td>\n",
        "      <td>-0.156320</td>\n",
        "    </tr>\n",
        "    <tr>\n",
        "      <th>C</th>\n",
        "      <td>-1.037191</td>\n",
        "      <td>-0.733242</td>\n",
        "      <td> 0.546994</td>\n",
        "      <td>-0.183848</td>\n",
        "      <td> 0.533395</td>\n",
        "      <td> 0.603658</td>\n",
        "    </tr>\n",
        "    <tr>\n",
        "      <th>D</th>\n",
        "      <td> 1.464897</td>\n",
        "      <td>-0.561537</td>\n",
        "      <td>-2.486000</td>\n",
        "      <td>-0.229992</td>\n",
        "      <td> 0.650149</td>\n",
        "      <td>-0.325241</td>\n",
        "    </tr>\n",
        "  </tbody>\n",
        "</table>\n",
        "</div>"
       ],
       "metadata": {},
       "output_type": "pyout",
       "prompt_number": 121,
       "text": [
        "   2014-01-01  2014-01-02  2014-01-03  2014-01-04  2014-01-05  2014-01-06\n",
        "A    0.370113    0.420930    0.492123   -0.223033   -0.060801   -0.324651\n",
        "B   -1.594972   -1.800068    0.613865    1.090973    0.216354   -0.156320\n",
        "C   -1.037191   -0.733242    0.546994   -0.183848    0.533395    0.603658\n",
        "D    1.464897   -0.561537   -2.486000   -0.229992    0.650149   -0.325241"
       ]
      }
     ],
     "prompt_number": 121
    },
    {
     "cell_type": "code",
     "collapsed": false,
     "input": [
      "print(df.T.index)\n",
      "print(df.T.columns)"
     ],
     "language": "python",
     "metadata": {},
     "outputs": [
      {
       "output_type": "stream",
       "stream": "stdout",
       "text": [
        "Index(['A', 'B', 'C', 'D'], dtype='object')\n",
        "<class 'pandas.tseries.index.DatetimeIndex'>\n",
        "[2014-01-01, ..., 2014-01-06]\n",
        "Length: 6, Freq: D, Timezone: None\n"
       ]
      }
     ],
     "prompt_number": 126
    },
    {
     "cell_type": "code",
     "collapsed": false,
     "input": [
      "df.describe().T"
     ],
     "language": "python",
     "metadata": {},
     "outputs": [
      {
       "html": [
        "<div style=\"max-height:1000px;max-width:1500px;overflow:auto;\">\n",
        "<table border=\"1\" class=\"dataframe\">\n",
        "  <thead>\n",
        "    <tr style=\"text-align: right;\">\n",
        "      <th></th>\n",
        "      <th>count</th>\n",
        "      <th>mean</th>\n",
        "      <th>std</th>\n",
        "      <th>min</th>\n",
        "      <th>25%</th>\n",
        "      <th>50%</th>\n",
        "      <th>75%</th>\n",
        "      <th>max</th>\n",
        "    </tr>\n",
        "  </thead>\n",
        "  <tbody>\n",
        "    <tr>\n",
        "      <th>A</th>\n",
        "      <td> 6</td>\n",
        "      <td> 0.112447</td>\n",
        "      <td> 0.357582</td>\n",
        "      <td>-0.324651</td>\n",
        "      <td>-0.182475</td>\n",
        "      <td> 0.154656</td>\n",
        "      <td> 0.408226</td>\n",
        "      <td> 0.492123</td>\n",
        "    </tr>\n",
        "    <tr>\n",
        "      <th>B</th>\n",
        "      <td> 6</td>\n",
        "      <td>-0.271695</td>\n",
        "      <td> 1.181488</td>\n",
        "      <td>-1.800068</td>\n",
        "      <td>-1.235309</td>\n",
        "      <td> 0.030017</td>\n",
        "      <td> 0.514487</td>\n",
        "      <td> 1.090973</td>\n",
        "    </tr>\n",
        "    <tr>\n",
        "      <th>C</th>\n",
        "      <td> 6</td>\n",
        "      <td>-0.045039</td>\n",
        "      <td> 0.718770</td>\n",
        "      <td>-1.037191</td>\n",
        "      <td>-0.595894</td>\n",
        "      <td> 0.174773</td>\n",
        "      <td> 0.543594</td>\n",
        "      <td> 0.603658</td>\n",
        "    </tr>\n",
        "    <tr>\n",
        "      <th>D</th>\n",
        "      <td> 6</td>\n",
        "      <td>-0.247954</td>\n",
        "      <td> 1.330709</td>\n",
        "      <td>-2.486000</td>\n",
        "      <td>-0.502463</td>\n",
        "      <td>-0.277617</td>\n",
        "      <td> 0.430114</td>\n",
        "      <td> 1.464897</td>\n",
        "    </tr>\n",
        "  </tbody>\n",
        "</table>\n",
        "</div>"
       ],
       "metadata": {},
       "output_type": "pyout",
       "prompt_number": 123,
       "text": [
        "   count      mean       std       min       25%       50%       75%       max\n",
        "A      6  0.112447  0.357582 -0.324651 -0.182475  0.154656  0.408226  0.492123\n",
        "B      6 -0.271695  1.181488 -1.800068 -1.235309  0.030017  0.514487  1.090973\n",
        "C      6 -0.045039  0.718770 -1.037191 -0.595894  0.174773  0.543594  0.603658\n",
        "D      6 -0.247954  1.330709 -2.486000 -0.502463 -0.277617  0.430114  1.464897"
       ]
      }
     ],
     "prompt_number": 123
    },
    {
     "cell_type": "markdown",
     "metadata": {},
     "source": [
      "The dataframe can be sorted by row index (axis=0) or by column names (axis=1)"
     ]
    },
    {
     "cell_type": "code",
     "collapsed": false,
     "input": [
      "df.sort_index(axis=0, ascending=False)"
     ],
     "language": "python",
     "metadata": {},
     "outputs": [
      {
       "html": [
        "<div style=\"max-height:1000px;max-width:1500px;overflow:auto;\">\n",
        "<table border=\"1\" class=\"dataframe\">\n",
        "  <thead>\n",
        "    <tr style=\"text-align: right;\">\n",
        "      <th></th>\n",
        "      <th>A</th>\n",
        "      <th>B</th>\n",
        "      <th>C</th>\n",
        "      <th>D</th>\n",
        "    </tr>\n",
        "  </thead>\n",
        "  <tbody>\n",
        "    <tr>\n",
        "      <th>2014-01-06</th>\n",
        "      <td>-0.324651</td>\n",
        "      <td>-0.156320</td>\n",
        "      <td> 0.603658</td>\n",
        "      <td>-0.325241</td>\n",
        "    </tr>\n",
        "    <tr>\n",
        "      <th>2014-01-05</th>\n",
        "      <td>-0.060801</td>\n",
        "      <td> 0.216354</td>\n",
        "      <td> 0.533395</td>\n",
        "      <td> 0.650149</td>\n",
        "    </tr>\n",
        "    <tr>\n",
        "      <th>2014-01-04</th>\n",
        "      <td>-0.223033</td>\n",
        "      <td> 1.090973</td>\n",
        "      <td>-0.183848</td>\n",
        "      <td>-0.229992</td>\n",
        "    </tr>\n",
        "    <tr>\n",
        "      <th>2014-01-03</th>\n",
        "      <td> 0.492123</td>\n",
        "      <td> 0.613865</td>\n",
        "      <td> 0.546994</td>\n",
        "      <td>-2.486000</td>\n",
        "    </tr>\n",
        "    <tr>\n",
        "      <th>2014-01-02</th>\n",
        "      <td> 0.420930</td>\n",
        "      <td>-1.800068</td>\n",
        "      <td>-0.733242</td>\n",
        "      <td>-0.561537</td>\n",
        "    </tr>\n",
        "    <tr>\n",
        "      <th>2014-01-01</th>\n",
        "      <td> 0.370113</td>\n",
        "      <td>-1.594972</td>\n",
        "      <td>-1.037191</td>\n",
        "      <td> 1.464897</td>\n",
        "    </tr>\n",
        "  </tbody>\n",
        "</table>\n",
        "</div>"
       ],
       "metadata": {},
       "output_type": "pyout",
       "prompt_number": 131,
       "text": [
        "                   A         B         C         D\n",
        "2014-01-06 -0.324651 -0.156320  0.603658 -0.325241\n",
        "2014-01-05 -0.060801  0.216354  0.533395  0.650149\n",
        "2014-01-04 -0.223033  1.090973 -0.183848 -0.229992\n",
        "2014-01-03  0.492123  0.613865  0.546994 -2.486000\n",
        "2014-01-02  0.420930 -1.800068 -0.733242 -0.561537\n",
        "2014-01-01  0.370113 -1.594972 -1.037191  1.464897"
       ]
      }
     ],
     "prompt_number": 131
    },
    {
     "cell_type": "code",
     "collapsed": false,
     "input": [
      "df.sort_index(axis=1, ascending=False)"
     ],
     "language": "python",
     "metadata": {},
     "outputs": [
      {
       "html": [
        "<div style=\"max-height:1000px;max-width:1500px;overflow:auto;\">\n",
        "<table border=\"1\" class=\"dataframe\">\n",
        "  <thead>\n",
        "    <tr style=\"text-align: right;\">\n",
        "      <th></th>\n",
        "      <th>D</th>\n",
        "      <th>C</th>\n",
        "      <th>B</th>\n",
        "      <th>A</th>\n",
        "    </tr>\n",
        "  </thead>\n",
        "  <tbody>\n",
        "    <tr>\n",
        "      <th>2014-01-01</th>\n",
        "      <td> 1.464897</td>\n",
        "      <td>-1.037191</td>\n",
        "      <td>-1.594972</td>\n",
        "      <td> 0.370113</td>\n",
        "    </tr>\n",
        "    <tr>\n",
        "      <th>2014-01-02</th>\n",
        "      <td>-0.561537</td>\n",
        "      <td>-0.733242</td>\n",
        "      <td>-1.800068</td>\n",
        "      <td> 0.420930</td>\n",
        "    </tr>\n",
        "    <tr>\n",
        "      <th>2014-01-03</th>\n",
        "      <td>-2.486000</td>\n",
        "      <td> 0.546994</td>\n",
        "      <td> 0.613865</td>\n",
        "      <td> 0.492123</td>\n",
        "    </tr>\n",
        "    <tr>\n",
        "      <th>2014-01-04</th>\n",
        "      <td>-0.229992</td>\n",
        "      <td>-0.183848</td>\n",
        "      <td> 1.090973</td>\n",
        "      <td>-0.223033</td>\n",
        "    </tr>\n",
        "    <tr>\n",
        "      <th>2014-01-05</th>\n",
        "      <td> 0.650149</td>\n",
        "      <td> 0.533395</td>\n",
        "      <td> 0.216354</td>\n",
        "      <td>-0.060801</td>\n",
        "    </tr>\n",
        "    <tr>\n",
        "      <th>2014-01-06</th>\n",
        "      <td>-0.325241</td>\n",
        "      <td> 0.603658</td>\n",
        "      <td>-0.156320</td>\n",
        "      <td>-0.324651</td>\n",
        "    </tr>\n",
        "  </tbody>\n",
        "</table>\n",
        "</div>"
       ],
       "metadata": {},
       "output_type": "pyout",
       "prompt_number": 132,
       "text": [
        "                   D         C         B         A\n",
        "2014-01-01  1.464897 -1.037191 -1.594972  0.370113\n",
        "2014-01-02 -0.561537 -0.733242 -1.800068  0.420930\n",
        "2014-01-03 -2.486000  0.546994  0.613865  0.492123\n",
        "2014-01-04 -0.229992 -0.183848  1.090973 -0.223033\n",
        "2014-01-05  0.650149  0.533395  0.216354 -0.060801\n",
        "2014-01-06 -0.325241  0.603658 -0.156320 -0.324651"
       ]
      }
     ],
     "prompt_number": 132
    },
    {
     "cell_type": "markdown",
     "metadata": {},
     "source": [
      "we can also sort by a column"
     ]
    },
    {
     "cell_type": "code",
     "collapsed": false,
     "input": [
      "df.sort(columns='C', ascending=False)"
     ],
     "language": "python",
     "metadata": {},
     "outputs": [
      {
       "html": [
        "<div style=\"max-height:1000px;max-width:1500px;overflow:auto;\">\n",
        "<table border=\"1\" class=\"dataframe\">\n",
        "  <thead>\n",
        "    <tr style=\"text-align: right;\">\n",
        "      <th></th>\n",
        "      <th>A</th>\n",
        "      <th>B</th>\n",
        "      <th>C</th>\n",
        "      <th>D</th>\n",
        "    </tr>\n",
        "  </thead>\n",
        "  <tbody>\n",
        "    <tr>\n",
        "      <th>2014-01-06</th>\n",
        "      <td>-0.324651</td>\n",
        "      <td>-0.156320</td>\n",
        "      <td> 0.603658</td>\n",
        "      <td>-0.325241</td>\n",
        "    </tr>\n",
        "    <tr>\n",
        "      <th>2014-01-03</th>\n",
        "      <td> 0.492123</td>\n",
        "      <td> 0.613865</td>\n",
        "      <td> 0.546994</td>\n",
        "      <td>-2.486000</td>\n",
        "    </tr>\n",
        "    <tr>\n",
        "      <th>2014-01-05</th>\n",
        "      <td>-0.060801</td>\n",
        "      <td> 0.216354</td>\n",
        "      <td> 0.533395</td>\n",
        "      <td> 0.650149</td>\n",
        "    </tr>\n",
        "    <tr>\n",
        "      <th>2014-01-04</th>\n",
        "      <td>-0.223033</td>\n",
        "      <td> 1.090973</td>\n",
        "      <td>-0.183848</td>\n",
        "      <td>-0.229992</td>\n",
        "    </tr>\n",
        "    <tr>\n",
        "      <th>2014-01-02</th>\n",
        "      <td> 0.420930</td>\n",
        "      <td>-1.800068</td>\n",
        "      <td>-0.733242</td>\n",
        "      <td>-0.561537</td>\n",
        "    </tr>\n",
        "    <tr>\n",
        "      <th>2014-01-01</th>\n",
        "      <td> 0.370113</td>\n",
        "      <td>-1.594972</td>\n",
        "      <td>-1.037191</td>\n",
        "      <td> 1.464897</td>\n",
        "    </tr>\n",
        "  </tbody>\n",
        "</table>\n",
        "</div>"
       ],
       "metadata": {},
       "output_type": "pyout",
       "prompt_number": 135,
       "text": [
        "                   A         B         C         D\n",
        "2014-01-06 -0.324651 -0.156320  0.603658 -0.325241\n",
        "2014-01-03  0.492123  0.613865  0.546994 -2.486000\n",
        "2014-01-05 -0.060801  0.216354  0.533395  0.650149\n",
        "2014-01-04 -0.223033  1.090973 -0.183848 -0.229992\n",
        "2014-01-02  0.420930 -1.800068 -0.733242 -0.561537\n",
        "2014-01-01  0.370113 -1.594972 -1.037191  1.464897"
       ]
      }
     ],
     "prompt_number": 135
    },
    {
     "cell_type": "markdown",
     "metadata": {},
     "source": [
      "Selecting the data"
     ]
    },
    {
     "cell_type": "code",
     "collapsed": false,
     "input": [
      "df['B']"
     ],
     "language": "python",
     "metadata": {},
     "outputs": [
      {
       "metadata": {},
       "output_type": "pyout",
       "prompt_number": 137,
       "text": [
        "2014-01-01   -1.594972\n",
        "2014-01-02   -1.800068\n",
        "2014-01-03    0.613865\n",
        "2014-01-04    1.090973\n",
        "2014-01-05    0.216354\n",
        "2014-01-06   -0.156320\n",
        "Freq: D, Name: B, dtype: float64"
       ]
      }
     ],
     "prompt_number": 137
    },
    {
     "cell_type": "code",
     "collapsed": false,
     "input": [
      "type(df[0:3])"
     ],
     "language": "python",
     "metadata": {},
     "outputs": [
      {
       "metadata": {},
       "output_type": "pyout",
       "prompt_number": 141,
       "text": [
        "pandas.core.frame.DataFrame"
       ]
      }
     ],
     "prompt_number": 141
    },
    {
     "cell_type": "code",
     "collapsed": false,
     "input": [
      "df[0:3]"
     ],
     "language": "python",
     "metadata": {},
     "outputs": [
      {
       "html": [
        "<div style=\"max-height:1000px;max-width:1500px;overflow:auto;\">\n",
        "<table border=\"1\" class=\"dataframe\">\n",
        "  <thead>\n",
        "    <tr style=\"text-align: right;\">\n",
        "      <th></th>\n",
        "      <th>A</th>\n",
        "      <th>B</th>\n",
        "      <th>C</th>\n",
        "      <th>D</th>\n",
        "    </tr>\n",
        "  </thead>\n",
        "  <tbody>\n",
        "    <tr>\n",
        "      <th>2014-01-01</th>\n",
        "      <td> 0.370113</td>\n",
        "      <td>-1.594972</td>\n",
        "      <td>-1.037191</td>\n",
        "      <td> 1.464897</td>\n",
        "    </tr>\n",
        "    <tr>\n",
        "      <th>2014-01-02</th>\n",
        "      <td> 0.420930</td>\n",
        "      <td>-1.800068</td>\n",
        "      <td>-0.733242</td>\n",
        "      <td>-0.561537</td>\n",
        "    </tr>\n",
        "    <tr>\n",
        "      <th>2014-01-03</th>\n",
        "      <td> 0.492123</td>\n",
        "      <td> 0.613865</td>\n",
        "      <td> 0.546994</td>\n",
        "      <td>-2.486000</td>\n",
        "    </tr>\n",
        "  </tbody>\n",
        "</table>\n",
        "</div>"
       ],
       "metadata": {},
       "output_type": "pyout",
       "prompt_number": 145,
       "text": [
        "                   A         B         C         D\n",
        "2014-01-01  0.370113 -1.594972 -1.037191  1.464897\n",
        "2014-01-02  0.420930 -1.800068 -0.733242 -0.561537\n",
        "2014-01-03  0.492123  0.613865  0.546994 -2.486000"
       ]
      }
     ],
     "prompt_number": 145
    },
    {
     "cell_type": "code",
     "collapsed": false,
     "input": [
      "df['2014-01-01':'2014-01-02']"
     ],
     "language": "python",
     "metadata": {},
     "outputs": [
      {
       "html": [
        "<div style=\"max-height:1000px;max-width:1500px;overflow:auto;\">\n",
        "<table border=\"1\" class=\"dataframe\">\n",
        "  <thead>\n",
        "    <tr style=\"text-align: right;\">\n",
        "      <th></th>\n",
        "      <th>A</th>\n",
        "      <th>B</th>\n",
        "      <th>C</th>\n",
        "      <th>D</th>\n",
        "    </tr>\n",
        "  </thead>\n",
        "  <tbody>\n",
        "    <tr>\n",
        "      <th>2014-01-01</th>\n",
        "      <td> 0.370113</td>\n",
        "      <td>-1.594972</td>\n",
        "      <td>-1.037191</td>\n",
        "      <td> 1.464897</td>\n",
        "    </tr>\n",
        "    <tr>\n",
        "      <th>2014-01-02</th>\n",
        "      <td> 0.420930</td>\n",
        "      <td>-1.800068</td>\n",
        "      <td>-0.733242</td>\n",
        "      <td>-0.561537</td>\n",
        "    </tr>\n",
        "  </tbody>\n",
        "</table>\n",
        "</div>"
       ],
       "metadata": {},
       "output_type": "pyout",
       "prompt_number": 147,
       "text": [
        "                   A         B         C         D\n",
        "2014-01-01  0.370113 -1.594972 -1.037191  1.464897\n",
        "2014-01-02  0.420930 -1.800068 -0.733242 -0.561537"
       ]
      }
     ],
     "prompt_number": 147
    },
    {
     "cell_type": "code",
     "collapsed": false,
     "input": [
      "dates[0]"
     ],
     "language": "python",
     "metadata": {},
     "outputs": [
      {
       "metadata": {},
       "output_type": "pyout",
       "prompt_number": 149,
       "text": [
        "Timestamp('2014-01-01 00:00:00', offset='D')"
       ]
      }
     ],
     "prompt_number": 149
    },
    {
     "cell_type": "code",
     "collapsed": false,
     "input": [
      "df.loc[dates[0]]"
     ],
     "language": "python",
     "metadata": {},
     "outputs": [
      {
       "metadata": {},
       "output_type": "pyout",
       "prompt_number": 151,
       "text": [
        "A    0.370113\n",
        "B   -1.594972\n",
        "C   -1.037191\n",
        "D    1.464897\n",
        "Name: 2014-01-01 00:00:00, dtype: float64"
       ]
      }
     ],
     "prompt_number": 151
    },
    {
     "cell_type": "code",
     "collapsed": false,
     "input": [
      "df.loc['2014-01-01':'2014-01-03',['A','D']]"
     ],
     "language": "python",
     "metadata": {},
     "outputs": [
      {
       "html": [
        "<div style=\"max-height:1000px;max-width:1500px;overflow:auto;\">\n",
        "<table border=\"1\" class=\"dataframe\">\n",
        "  <thead>\n",
        "    <tr style=\"text-align: right;\">\n",
        "      <th></th>\n",
        "      <th>A</th>\n",
        "      <th>D</th>\n",
        "    </tr>\n",
        "  </thead>\n",
        "  <tbody>\n",
        "    <tr>\n",
        "      <th>2014-01-01</th>\n",
        "      <td> 0.370113</td>\n",
        "      <td> 1.464897</td>\n",
        "    </tr>\n",
        "    <tr>\n",
        "      <th>2014-01-02</th>\n",
        "      <td> 0.420930</td>\n",
        "      <td>-0.561537</td>\n",
        "    </tr>\n",
        "    <tr>\n",
        "      <th>2014-01-03</th>\n",
        "      <td> 0.492123</td>\n",
        "      <td>-2.486000</td>\n",
        "    </tr>\n",
        "  </tbody>\n",
        "</table>\n",
        "</div>"
       ],
       "metadata": {},
       "output_type": "pyout",
       "prompt_number": 160,
       "text": [
        "                   A         D\n",
        "2014-01-01  0.370113  1.464897\n",
        "2014-01-02  0.420930 -0.561537\n",
        "2014-01-03  0.492123 -2.486000"
       ]
      }
     ],
     "prompt_number": 160
    },
    {
     "cell_type": "code",
     "collapsed": false,
     "input": [
      "df.loc[ 0:2, ['A','D']]"
     ],
     "language": "python",
     "metadata": {},
     "outputs": [
      {
       "ename": "KeyError",
       "evalue": "'start bound [0] is not the [index]'",
       "output_type": "pyerr",
       "traceback": [
        "\u001b[0;31m---------------------------------------------------------------------------\u001b[0m\n\u001b[0;31mKeyError\u001b[0m                                  Traceback (most recent call last)",
        "\u001b[0;32m<ipython-input-159-620f3c719415>\u001b[0m in \u001b[0;36m<module>\u001b[0;34m()\u001b[0m\n\u001b[0;32m----> 1\u001b[0;31m \u001b[0mdf\u001b[0m\u001b[0;34m.\u001b[0m\u001b[0mloc\u001b[0m\u001b[0;34m[\u001b[0m \u001b[0;36m0\u001b[0m\u001b[0;34m:\u001b[0m\u001b[0;36m2\u001b[0m\u001b[0;34m,\u001b[0m \u001b[0;34m[\u001b[0m\u001b[0;34m'A'\u001b[0m\u001b[0;34m,\u001b[0m\u001b[0;34m'D'\u001b[0m\u001b[0;34m]\u001b[0m\u001b[0;34m]\u001b[0m\u001b[0;34m\u001b[0m\u001b[0m\n\u001b[0m",
        "\u001b[0;32m/Users/kittipat/anaconda3/anaconda/lib/python3.4/site-packages/pandas/core/indexing.py\u001b[0m in \u001b[0;36m__getitem__\u001b[0;34m(self, key)\u001b[0m\n\u001b[1;32m   1125\u001b[0m     \u001b[0;32mdef\u001b[0m \u001b[0m__getitem__\u001b[0m\u001b[0;34m(\u001b[0m\u001b[0mself\u001b[0m\u001b[0;34m,\u001b[0m \u001b[0mkey\u001b[0m\u001b[0;34m)\u001b[0m\u001b[0;34m:\u001b[0m\u001b[0;34m\u001b[0m\u001b[0m\n\u001b[1;32m   1126\u001b[0m         \u001b[0;32mif\u001b[0m \u001b[0mtype\u001b[0m\u001b[0;34m(\u001b[0m\u001b[0mkey\u001b[0m\u001b[0;34m)\u001b[0m \u001b[0;32mis\u001b[0m \u001b[0mtuple\u001b[0m\u001b[0;34m:\u001b[0m\u001b[0;34m\u001b[0m\u001b[0m\n\u001b[0;32m-> 1127\u001b[0;31m             \u001b[0;32mreturn\u001b[0m \u001b[0mself\u001b[0m\u001b[0;34m.\u001b[0m\u001b[0m_getitem_tuple\u001b[0m\u001b[0;34m(\u001b[0m\u001b[0mkey\u001b[0m\u001b[0;34m)\u001b[0m\u001b[0;34m\u001b[0m\u001b[0m\n\u001b[0m\u001b[1;32m   1128\u001b[0m         \u001b[0;32melse\u001b[0m\u001b[0;34m:\u001b[0m\u001b[0;34m\u001b[0m\u001b[0m\n\u001b[1;32m   1129\u001b[0m             \u001b[0;32mreturn\u001b[0m \u001b[0mself\u001b[0m\u001b[0;34m.\u001b[0m\u001b[0m_getitem_axis\u001b[0m\u001b[0;34m(\u001b[0m\u001b[0mkey\u001b[0m\u001b[0;34m,\u001b[0m \u001b[0maxis\u001b[0m\u001b[0;34m=\u001b[0m\u001b[0;36m0\u001b[0m\u001b[0;34m)\u001b[0m\u001b[0;34m\u001b[0m\u001b[0m\n",
        "\u001b[0;32m/Users/kittipat/anaconda3/anaconda/lib/python3.4/site-packages/pandas/core/indexing.py\u001b[0m in \u001b[0;36m_getitem_tuple\u001b[0;34m(self, tup)\u001b[0m\n\u001b[1;32m    648\u001b[0m \u001b[0;34m\u001b[0m\u001b[0m\n\u001b[1;32m    649\u001b[0m         \u001b[0;31m# no multi-index, so validate all of the indexers\u001b[0m\u001b[0;34m\u001b[0m\u001b[0;34m\u001b[0m\u001b[0m\n\u001b[0;32m--> 650\u001b[0;31m         \u001b[0mself\u001b[0m\u001b[0;34m.\u001b[0m\u001b[0m_has_valid_tuple\u001b[0m\u001b[0;34m(\u001b[0m\u001b[0mtup\u001b[0m\u001b[0;34m)\u001b[0m\u001b[0;34m\u001b[0m\u001b[0m\n\u001b[0m\u001b[1;32m    651\u001b[0m \u001b[0;34m\u001b[0m\u001b[0m\n\u001b[1;32m    652\u001b[0m         \u001b[0;31m# ugly hack for GH #836\u001b[0m\u001b[0;34m\u001b[0m\u001b[0;34m\u001b[0m\u001b[0m\n",
        "\u001b[0;32m/Users/kittipat/anaconda3/anaconda/lib/python3.4/site-packages/pandas/core/indexing.py\u001b[0m in \u001b[0;36m_has_valid_tuple\u001b[0;34m(self, key)\u001b[0m\n\u001b[1;32m    127\u001b[0m             \u001b[0;32mif\u001b[0m \u001b[0mi\u001b[0m \u001b[0;34m>=\u001b[0m \u001b[0mself\u001b[0m\u001b[0;34m.\u001b[0m\u001b[0mobj\u001b[0m\u001b[0;34m.\u001b[0m\u001b[0mndim\u001b[0m\u001b[0;34m:\u001b[0m\u001b[0;34m\u001b[0m\u001b[0m\n\u001b[1;32m    128\u001b[0m                 \u001b[0;32mraise\u001b[0m \u001b[0mIndexingError\u001b[0m\u001b[0;34m(\u001b[0m\u001b[0;34m'Too many indexers'\u001b[0m\u001b[0;34m)\u001b[0m\u001b[0;34m\u001b[0m\u001b[0m\n\u001b[0;32m--> 129\u001b[0;31m             \u001b[0;32mif\u001b[0m \u001b[0;32mnot\u001b[0m \u001b[0mself\u001b[0m\u001b[0;34m.\u001b[0m\u001b[0m_has_valid_type\u001b[0m\u001b[0;34m(\u001b[0m\u001b[0mk\u001b[0m\u001b[0;34m,\u001b[0m \u001b[0mi\u001b[0m\u001b[0;34m)\u001b[0m\u001b[0;34m:\u001b[0m\u001b[0;34m\u001b[0m\u001b[0m\n\u001b[0m\u001b[1;32m    130\u001b[0m                 raise ValueError(\"Location based indexing can only have [%s] \"\n\u001b[1;32m    131\u001b[0m                                  \"types\" % self._valid_types)\n",
        "\u001b[0;32m/Users/kittipat/anaconda3/anaconda/lib/python3.4/site-packages/pandas/core/indexing.py\u001b[0m in \u001b[0;36m_has_valid_type\u001b[0;34m(self, key, axis)\u001b[0m\n\u001b[1;32m   1185\u001b[0m                         raise KeyError(\n\u001b[1;32m   1186\u001b[0m                             \u001b[0;34m\"start bound [%s] is not the [%s]\"\u001b[0m \u001b[0;34m%\u001b[0m\u001b[0;34m\u001b[0m\u001b[0m\n\u001b[0;32m-> 1187\u001b[0;31m                             \u001b[0;34m(\u001b[0m\u001b[0mkey\u001b[0m\u001b[0;34m.\u001b[0m\u001b[0mstart\u001b[0m\u001b[0;34m,\u001b[0m \u001b[0mself\u001b[0m\u001b[0;34m.\u001b[0m\u001b[0mobj\u001b[0m\u001b[0;34m.\u001b[0m\u001b[0m_get_axis_name\u001b[0m\u001b[0;34m(\u001b[0m\u001b[0maxis\u001b[0m\u001b[0;34m)\u001b[0m\u001b[0;34m)\u001b[0m\u001b[0;34m\u001b[0m\u001b[0m\n\u001b[0m\u001b[1;32m   1188\u001b[0m                         )\n\u001b[1;32m   1189\u001b[0m                 \u001b[0;32mif\u001b[0m \u001b[0mkey\u001b[0m\u001b[0;34m.\u001b[0m\u001b[0mstop\u001b[0m \u001b[0;32mis\u001b[0m \u001b[0;32mnot\u001b[0m \u001b[0;32mNone\u001b[0m\u001b[0;34m:\u001b[0m\u001b[0;34m\u001b[0m\u001b[0m\n",
        "\u001b[0;31mKeyError\u001b[0m: 'start bound [0] is not the [index]'"
       ]
      }
     ],
     "prompt_number": 159
    },
    {
     "cell_type": "code",
     "collapsed": false,
     "input": [],
     "language": "python",
     "metadata": {},
     "outputs": []
    }
   ],
   "metadata": {}
  }
 ]
}