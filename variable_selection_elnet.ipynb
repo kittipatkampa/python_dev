{
 "metadata": {
  "name": "",
  "signature": "sha256:bca4b6cabd40f4e281d7b3bcc3ea912cc145c2ca19946765bb355ee9501a0b68"
 },
 "nbformat": 3,
 "nbformat_minor": 0,
 "worksheets": [
  {
   "cells": [
    {
     "cell_type": "code",
     "collapsed": false,
     "input": [
      "import numpy as np\n",
      "import pandas as pd\n",
      "import matplotlib.pyplot as plt\n"
     ],
     "language": "python",
     "metadata": {},
     "outputs": [],
     "prompt_number": 1
    },
    {
     "cell_type": "code",
     "collapsed": false,
     "input": [
      "## read the pickle file\n",
      "import pickle as pk\n",
      "\n",
      "filecon2 = open('titanic_woe.pkl', 'rb')\n",
      "Dict = pk.load(filecon2)\n",
      "filecon2.close()"
     ],
     "language": "python",
     "metadata": {},
     "outputs": [],
     "prompt_number": 3
    },
    {
     "cell_type": "code",
     "collapsed": false,
     "input": [
      "X_valida = Dict['wX_valida'].drop(labels=['survived','name'], axis=1)\n",
      "X_train = Dict['wX_train'].drop(labels=['survived','name'], axis=1)\n",
      "Y_valida = Dict['Y_valida']\n",
      "Y_train = Dict['Y_train']"
     ],
     "language": "python",
     "metadata": {},
     "outputs": [],
     "prompt_number": 4
    },
    {
     "cell_type": "code",
     "collapsed": false,
     "input": [
      "X_valida = X_valida.as_matrix()\n",
      "X_train = X_train.as_matrix()\n",
      "Y_valida = Y_valida.as_matrix()\n",
      "Y_train = Y_train.as_matrix()"
     ],
     "language": "python",
     "metadata": {},
     "outputs": [],
     "prompt_number": 5
    },
    {
     "cell_type": "code",
     "collapsed": false,
     "input": [
      "# ElasticNet\n",
      "from sklearn.linear_model import ElasticNet\n",
      "from sklearn.metrics import r2_score"
     ],
     "language": "python",
     "metadata": {},
     "outputs": [],
     "prompt_number": 6
    },
    {
     "cell_type": "markdown",
     "metadata": {},
     "source": [
      "If anyone is familiar with elastic net from glmnet, the objective function is:\n",
      "\n",
      "1 / (2 * n_samples) * ||y - Xw||^2_2 + $\\lambda$ * $\\alpha$ * ||w||_1 + 0.5 * $\\lambda$ * (1 - $\\alpha$) * ||w||^2_2\n",
      "\n",
      "However, the interface in this toolbox use different notation:\n",
      "+ alpha <-- $\\lambda$\n",
      "+ l1_ratio (rol) <-- $\\alpha$"
     ]
    },
    {
     "cell_type": "code",
     "collapsed": false,
     "input": [
      "alpha = 0.1 ## regularization constant (former lambda)\n",
      "rol = 0.2 ## L1 ratio (former alpha)\n",
      "\n",
      "enet = ElasticNet(alpha=alpha, l1_ratio=rol)"
     ],
     "language": "python",
     "metadata": {},
     "outputs": [],
     "prompt_number": 7
    },
    {
     "cell_type": "code",
     "collapsed": false,
     "input": [
      "y_pred_enet = enet.fit(X_train, Y_train).predict(X_valida)"
     ],
     "language": "python",
     "metadata": {},
     "outputs": []
    },
    {
     "cell_type": "code",
     "collapsed": false,
     "input": [
      "## Get the prediction \n",
      "output = pd.DataFrame(data={'p_pred_valida':y_pred_enet,'Y_valida':Y_valida}, columns=['p_pred_valida','Y_pred_valida','Y_valida'])\n",
      "#output = pd.concat([output,Y_valida], axis=1)\n",
      "output"
     ],
     "language": "python",
     "metadata": {},
     "outputs": []
    },
    {
     "cell_type": "code",
     "collapsed": false,
     "input": [
      "## use elnet path\n",
      "elnetpath = ElasticNet.path(X_train, Y_train, l1_ratio=rol, eps=0.1, n_alphas=10, alphas=None)"
     ],
     "language": "python",
     "metadata": {},
     "outputs": []
    },
    {
     "cell_type": "code",
     "collapsed": false,
     "input": [
      "elnetpath"
     ],
     "language": "python",
     "metadata": {},
     "outputs": []
    },
    {
     "cell_type": "code",
     "collapsed": false,
     "input": [
      "from sklearn.linear_model import enet_path\n",
      "eps = 5e-3  # the smaller it is the longer is the path\n",
      "alphas_enet, coefs_enet, _ = enet_path(double(X_train), double(Y_train), eps=eps, l1_ratio=0.8, fit_intercept=False)"
     ],
     "language": "python",
     "metadata": {},
     "outputs": []
    },
    {
     "cell_type": "code",
     "collapsed": false,
     "input": [
      "coefs_enet"
     ],
     "language": "python",
     "metadata": {},
     "outputs": []
    },
    {
     "cell_type": "code",
     "collapsed": false,
     "input": [],
     "language": "python",
     "metadata": {},
     "outputs": []
    }
   ],
   "metadata": {}
  }
 ]
}