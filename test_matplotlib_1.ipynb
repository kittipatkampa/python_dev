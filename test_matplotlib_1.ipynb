{
 "metadata": {
  "name": ""
 },
 "nbformat": 3,
 "nbformat_minor": 0,
 "worksheets": [
  {
   "cells": [
    {
     "cell_type": "code",
     "collapsed": false,
     "input": [
      "\"\"\"\n",
      "Demo of spines offset from the axes (a.k.a. \"dropped spines\").\n",
      "copied from the matplotlib gallery\n",
      "\"\"\"\n",
      "import numpy as np\n",
      "import matplotlib.pyplot as plt\n",
      "\n",
      "\n",
      "fig, ax = plt.subplots()\n",
      "\n",
      "image = np.random.uniform(size=(10, 10))\n",
      "ax.imshow(image, cmap=plt.cm.gray, interpolation='nearest')\n",
      "ax.set_title('dropped spines')\n",
      "\n",
      "# Move left and bottom spines outward by 10 points\n",
      "ax.spines['left'].set_position(('outward', 10))\n",
      "ax.spines['bottom'].set_position(('outward', 10))\n",
      "# Hide the right and top spines\n",
      "ax.spines['right'].set_visible(False)\n",
      "ax.spines['top'].set_visible(False)\n",
      "# Only show ticks on the left and bottom spines\n",
      "ax.yaxis.set_ticks_position('left')\n",
      "ax.xaxis.set_ticks_position('bottom')\n",
      "\n",
      "plt.show()\n"
     ],
     "language": "python",
     "metadata": {},
     "outputs": [
      {
       "metadata": {},
       "output_type": "display_data",
       "png": "[encoded data removed]",
       "text": [
        "<matplotlib.figure.Figure at 0x10590ec50>"
       ]
      }
     ],
     "prompt_number": 1
    }
   ],
   "metadata": {}
  }
 ]
}